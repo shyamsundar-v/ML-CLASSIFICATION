{
  "nbformat": 4,
  "nbformat_minor": 0,
  "metadata": {
    "colab": {
      "name": "ANDRIOD AUTHENTICITY PREDICTION.ipynb",
      "provenance": [],
      "collapsed_sections": [],
      "include_colab_link": true
    },
    "kernelspec": {
      "name": "python3",
      "display_name": "Python 3"
    },
    "language_info": {
      "name": "python"
    }
  },
  "cells": [
    {
      "cell_type": "markdown",
      "metadata": {
        "id": "view-in-github",
        "colab_type": "text"
      },
      "source": [
        "<a href=\"https://colab.research.google.com/github/shyamsundar-v/ML-CLASSIFICATION/blob/main/ANDRIOD_AUTHENTICITY_PREDICTION.ipynb\" target=\"_parent\"><img src=\"https://colab.research.google.com/assets/colab-badge.svg\" alt=\"Open In Colab\"/></a>"
      ]
    },
    {
      "cell_type": "markdown",
      "metadata": {
        "id": "LGcl5Bv9ed6u"
      },
      "source": [
        "# **Problem Statement**"
      ]
    },
    {
      "cell_type": "markdown",
      "metadata": {
        "id": "8oY8vstDp_uK"
      },
      "source": [
        "This dataset consists of apps needed permissions during installation and run-time. We collect apps from three different sources google play, third-party apps and malware dataset. This file contains more than 30,000 Android apps. features extracted at the time of installation and execution. One file contains the name of the features and others contain .apk file corresponding to it extracted permissions with respective package. Apps are collected from Google's play store, hiapk, app china,  Android,  mumayi , gfan  slideme, and pandaapp.  These .apk files collected from the last three years continuously and contain 81 distinct malware families. But, Here you are only supposed to predict whether the app is benign(0) or malware(1)."
      ]
    },
    {
      "cell_type": "markdown",
      "metadata": {
        "id": "AzGDqdC4fZ-b"
      },
      "source": [
        "# **Attribute Information**"
      ]
    },
    {
      "cell_type": "markdown",
      "metadata": {
        "id": "kJGyhFENyAM4"
      },
      "source": [
        "1 . App :- Name of the App\n",
        " \n",
        "2 . Package :- OBB/Data package installed in root folder\n",
        " \n",
        "3 . Category :-  App Category (eg. Entertainment, Adventure, puzzle, Action, Antivirus, etc.)\n",
        " \n",
        "4 . Description :- App Description\n",
        " \n",
        "5 . Rating :-  Rating out of 5\n",
        " \n",
        "6 . Number of ratings :- No. of Ratings given by users\n",
        " \n",
        "7 . Price :- Price of the App\n",
        " \n",
        "8 . Related apps :-  Apps related to installed App\n",
        " \n",
        "9 . Dangerous **(D)** permissions count :- No. of Dangerous Permissions allowed by user\n",
        " \n",
        "10 . Safe **(S)** permissions count :- No. of Safe Permissions allowed by user\n",
        " \n",
        "11 . Default : Access DRM content. (S) :- 0 : No , 1 : Yes \n",
        " \n",
        "12 . Default : Access Email provider data (S) :- 0 : No , 1 : Yes \n",
        " \n",
        "13 . Default : Access all system downloads (S) :- 0 : No , 1 : Yes \n",
        " \n",
        "14 . Default : Access download manager. (S) :- 0 : No , 1 : Yes \n",
        " \n",
        "15 . Default : Advanced download manager functions. (S) :- 0 : No , 1 : Yes \n",
        " \n",
        "16 . Default : Audio File Access (S) :- 0 : No , 1 : Yes \n",
        " \n",
        "17 . Default : Install DRM content. (S) :- 0 : No , 1 : Yes \n",
        " \n",
        "18 . Default : Modify Google service configuration (S) :- 0 : No , 1 : Yes \n",
        " \n",
        "19 . Default : Modify Google settings (S) :- 0 : No , 1 : Yes \n",
        " \n",
        "20 . Default : Move application resources (S) :- 0 : No , 1 : Yes \n",
        " \n",
        "21 . Default : Read Google settings (S) :- 0 : No , 1 : Yes \n",
        " \n",
        "22 . Default : Send download notifications. (S) :- 0 : No , 1 : Yes \n",
        " \n",
        "23 . Default : Voice Search Shortcuts (S) :- 0 : No , 1 : Yes \n",
        " \n",
        "24 . Default : access SurfaceFlinger (S) :- 0 : No , 1 : Yes \n",
        " \n",
        "25 . Default : access checkin properties (S) :- 0 : No , 1 : Yes \n",
        " \n",
        "26 . Default : access the cache filesystem (S) :- 0 : No , 1 : Yes \n",
        " \n",
        "27 . Default : access to passwords for Google accounts (S) :- 0 : No , 1 : Yes \n",
        " \n",
        "28 . Default : act as an account authenticator (S) :- 0 : No , 1 : Yes \n",
        " \n",
        "29 . Default : bind to a wallpaper (S) :- 0 : No , 1 : Yes \n",
        " \n",
        "30 . Default : bind to an input method (S) :- 0 : No , 1 : Yes \n",
        " \n",
        "31 . Default : change screen orientation (S) :- 0 : No , 1 : Yes \n",
        " \n",
        "32 . Default : coarse (network-based) location (S) :- 0 : No , 1 : Yes \n",
        " \n",
        "33 . Default : control location update notifications (S) :- 0 : No , 1 : Yes \n",
        " \n",
        "34 . Default : control system backup and restore (S) :- 0 : No , 1 : Yes \n",
        " \n",
        "35 . Default : delete applications (S) :- 0 : No , 1 : Yes \n",
        " \n",
        "36 . Default : delete other applications' caches (S) :- 0 : No , 1 : Yes \n",
        " \n",
        "37 . Default : delete other applications' data (S) :- 0 : No , 1 : Yes \n",
        " \n",
        "38 . Default : directly call any phone numbers (S) :- 0 : No , 1 : Yes \n",
        " \n",
        "39 . Default : directly install applications (S) :- 0 : No , 1 : Yes \n",
        " \n",
        "40 . Default : disable or modify status bar (S) :- 0 : No , 1 : Yes \n",
        " \n",
        "41 . Default : discover known accounts (S) :- 0 : No , 1 : Yes \n",
        " \n",
        "42 . Default : display unauthorized windows (S) :- 0 : No , 1 : Yes \n",
        " \n",
        "43 . Default : enable or disable application components (S) :- 0 : No , 1 : Yes \n",
        " \n",
        "44 . Default : force application to close (S) :- 0 : No , 1 : Yes \n",
        " \n",
        "45 . Default : force device reboot (S) :- 0 : No , 1 : Yes \n",
        " \n",
        "46 . Default : full Internet access (S) :- 0 : No , 1 : Yes \n",
        " \n",
        "47 . Default : interact with a device admin (S) :- 0 : No , 1 : Yes \n",
        " \n",
        "48 . Default : manage application tokens (S) :- 0 : No , 1 : Yes \n",
        " \n",
        "49 . Default : mock location sources for testing (S) :- 0 : No , 1 : Yes \n",
        " \n",
        "50 . Default : modify battery statistics (S) :- 0 : No , 1 : Yes \n",
        " \n",
        "51 . Default : modify secure system settings (S) :- 0 : No , 1 : Yes \n",
        " \n",
        "52 . Default : modify the Google services map (S) :- 0 : No , 1 : Yes \n",
        " \n",
        "53 . Default : modify/delete USB storage contents modify/delete SD card contents (S) :- 0 : No , 1 : Yes \n",
        " \n",
        "54 . Default : monitor and control all application launching (S) :- 0 : No , 1 : Yes \n",
        " \n",
        "55 . Default : partial shutdown (S) :- 0 : No , 1 : Yes \n",
        " \n",
        "56 . Default : permanently disable device (S) :- 0 : No , 1 : Yes \n",
        " \n",
        "57 . Default : permission to install a location provider (S) :- 0 : No , 1 : Yes \n",
        " \n",
        "58 . Default : power device on or off (S) :- 0 : No , 1 : Yes \n",
        " \n",
        "59 . Default : press keys and control buttons (S) :- 0 : No , 1 : Yes \n",
        " \n",
        "60 . Default : prevent app switches (S) :- 0 : No , 1 : Yes \n",
        " \n",
        "61 . Default : read frame buffer (S) :- 0 : No , 1 : Yes \n",
        " \n",
        "62 . Default : read instant messages (S) :- 0 : No , 1 : Yes \n",
        " \n",
        "63 . Default : read phone state and identity (S) :- 0 : No , 1 : Yes \n",
        " \n",
        "64 . Default : record what you type and actions you take (S) :- 0 : No , 1 : Yes \n",
        " \n",
        "65 . Default : reset system to factory defaults (S) :- 0 : No , 1 : Yes \n",
        " \n",
        "66 . Default : run in factory test mode (S) :- 0 : No , 1 : Yes \n",
        " \n",
        "67 . Default : set time (S) :- 0 : No , 1 : Yes \n",
        " \n",
        "68 . Default : set wallpaper size hints (S) :- 0 : No , 1 : Yes \n",
        " \n",
        "69 . Default : start IM service (S) :- 0 : No , 1 : Yes \n",
        " \n",
        "70 . Default : update component usage statistics (S) :- 0 : No , 1 : Yes \n",
        " \n",
        "71 . Default : write contact data (S) :- 0 : No , 1 : Yes \n",
        " \n",
        "72 . Default : write instant messages (S) :- 0 : No , 1 : Yes \n",
        " \n",
        "73 . Development tools : enable application debugging (D) :- 0 : No , 1 : Yes \n",
        " \n",
        "74 . Development tools : limit number of running processes (D) :- 0 : No , 1 : Yes \n",
        " \n",
        "75 . Development tools : make all background applications close (D) :- 0 : No , 1 : Yes \n",
        " \n",
        "76 . Development tools : send Linux signals to applications (D) :- 0 : No , 1 : Yes \n",
        " \n",
        "77 . Hardware controls : change your audio settings (D) :- 0 : No , 1 : Yes \n",
        " \n",
        "78 . Hardware controls : control flashlight (S) :- 0 : No , 1 : Yes \n",
        " \n",
        "79 . Hardware controls : control vibrator (S) :- 0 : No , 1 : Yes \n",
        " \n",
        "80 . Hardware controls : record audio (D) :- 0 : No , 1 : Yes \n",
        " \n",
        "81 . Hardware controls : take pictures and videos (D) :- 0 : No , 1 : Yes \n",
        " \n",
        "82 . Hardware controls : test hardware (S) :- 0 : No , 1 : Yes \n",
        " \n",
        "83 . Network communication : Broadcast data messages to applications. (S) :- 0 : No , 1 : Yes \n",
        " \n",
        "84 . Network communication : control Near Field Communication (D) :- 0 : No , 1 : Yes \n",
        " \n",
        "85 . Network communication : create Bluetooth connections (D) :- 0 : No , 1 : Yes \n",
        " \n",
        "86 . Network communication : download files without notification (S) :- 0 : No , 1 : Yes \n",
        " \n",
        "87 . Network communication : full Internet access (D) :- 0 : No , 1 : Yes \n",
        " \n",
        "88 . Network communication : make/receive Internet calls (D) :- 0 : No , 1 : Yes \n",
        " \n",
        "89 . Network communication : receive data from Internet (S) :- 0 : No , 1 : Yes \n",
        " \n",
        "90 . Network communication : view Wi-Fi state (S) :- 0 : No , 1 : Yes \n",
        " \n",
        "91 . Network communication : view network state (S) :- 0 : No , 1 : Yes \n",
        " \n",
        "92 . Phone calls : intercept outgoing calls (D) :- 0 : No , 1 : Yes \n",
        " \n",
        "93 . Phone calls : modify phone state (S) :- 0 : No , 1 : Yes \n",
        " \n",
        "94 . Phone calls : read phone state and identity (D) :- 0 : No , 1 : Yes \n",
        " \n",
        "95 . Services that cost you money : directly call phone numbers (D) :- 0 : No , 1 : Yes \n",
        " \n",
        "96 . Services that cost you money : send SMS messages (D) :- 0 : No , 1 : Yes \n",
        " \n",
        "97 . Storage : modify/delete USB storage contents modify/delete SD card contents (D) :- 0 : No , 1 : Yes \n",
        " \n",
        "98 . System tools : allow Wi-Fi Multicast reception (D) :- 0 : No , 1 : Yes \n",
        " \n",
        "99 . System tools : automatically start at boot (S) :- 0 : No , 1 : Yes \n",
        " \n",
        "100 . System tools : bluetooth administration (D) :- 0 : No , 1 : Yes \n",
        " \n",
        "101 . System tools : change Wi-Fi state (D) :- 0 : No , 1 : Yes \n",
        " \n",
        "102 . System tools : change background data usage setting (S) :- 0 : No , 1 : Yes \n",
        " \n",
        "103 . System tools : change network connectivity (D) :- 0 : No , 1 : Yes \n",
        " \n",
        "104 . System tools : change your UI settings (D) :- 0 : No , 1 : Yes \n",
        " \n",
        "105 . System tools : delete all application cache data (D) :- 0 : No , 1 : Yes \n",
        " \n",
        "106 . System tools : disable keylock (D) :- 0 : No , 1 : Yes \n",
        " \n",
        "107 . System tools : display system-level alerts (D) :- 0 : No , 1 : Yes \n",
        " \n",
        "108 . System tools : expand/collapse status bar (S) :- 0 : No , 1 : Yes \n",
        " \n",
        "109 . System tools : force stop other applications (S) :- 0 : No , 1 : Yes \n",
        " \n",
        "110 . System tools : format external storage (D) :- 0 : No , 1 : Yes \n",
        " \n",
        "111 . System tools : kill background processes (S) :- 0 : No , 1 : Yes \n",
        " \n",
        "112 . System tools : make application always run (D) :- 0 : No , 1 : Yes \n",
        " \n",
        "113 . System tools : measure application storage space (S) :- 0 : No , 1 : Yes \n",
        " \n",
        "114 . System tools : modify global animation speed (D) :- 0 : No , 1 : Yes \n",
        " \n",
        "115 . System tools : modify global system settings (D) :- 0 : No , 1 : Yes \n",
        " \n",
        "116 . System tools : mount and unmount filesystems (D) :- 0 : No , 1 : Yes \n",
        " \n",
        "117 . System tools : prevent device from sleeping (D) :- 0 : No , 1 : Yes \n",
        " \n",
        "118 . System tools : read subscribed feeds (S) :- 0 : No , 1 : Yes \n",
        " \n",
        "119 . System tools : read sync settings (S) :- 0 : No , 1 : Yes \n",
        " \n",
        "120 . System tools : read sync statistics (S) :- 0 : No , 1 : Yes \n",
        " \n",
        "121 . System tools : read/write to resources owned by diag (S) :- 0 : No , 1 : Yes \n",
        " \n",
        "122 . System tools : reorder running applications (D) :- 0 : No , 1 : Yes \n",
        " \n",
        "123 . System tools : retrieve running applications (D) :- 0 : No , 1 : Yes \n",
        " \n",
        "124 . System tools : send package removed broadcast (S) :- 0 : No , 1 : Yes \n",
        " \n",
        "125 . System tools : send sticky broadcast (S) :- 0 : No , 1 : Yes \n",
        " \n",
        "126 . System tools : set preferred applications (S) :- 0 : No , 1 : Yes \n",
        " \n",
        "127 . System tools : set time zone (D) :- 0 : No , 1 : Yes \n",
        " \n",
        "128 . System tools : set wallpaper (S) :- 0 : No , 1 : Yes \n",
        " \n",
        "129 . System tools : set wallpaper size hints (S) :- 0 : No , 1 : Yes \n",
        " \n",
        "130 . System tools : write Access Point Name settings (D) :- 0 : No , 1 : Yes \n",
        " \n",
        "131 . System tools : write subscribed feeds (D) :- 0 : No , 1 : Yes \n",
        " \n",
        "132 . System tools : write sync settings (D) :- 0 : No , 1 : Yes \n",
        " \n",
        "133 . Your accounts : Blogger (D) :- 0 : No , 1 : Yes \n",
        " \n",
        "134 . Your accounts : Google App Engine (D) :- 0 : No , 1 : Yes \n",
        " \n",
        "135 . Your accounts : Google Docs (D) :- 0 : No , 1 : Yes \n",
        " \n",
        "136 . Your accounts : Google Finance (D) :- 0 : No , 1 : Yes \n",
        " \n",
        "137 . Your accounts : Google Maps (D) :- 0 : No , 1 : Yes \n",
        " \n",
        "138 . Your accounts : Google Spreadsheets (D) :- 0 : No , 1 : Yes \n",
        " \n",
        "139 . Your accounts : Google Voice (D) :- 0 : No , 1 : Yes \n",
        " \n",
        "140 . Your accounts : Google mail (D) :- 0 : No , 1 : Yes \n",
        " \n",
        "141 . Your accounts : Picasa Web Albums (D) :- 0 : No , 1 : Yes \n",
        " \n",
        "142 . Your accounts : YouTube (D) :- 0 : No , 1 : Yes \n",
        " \n",
        "143 . Your accounts : YouTube usernames (D) :- 0 : No , 1 : Yes \n",
        " \n",
        "144 . Your accounts : access all Google services (S) :- 0 : No , 1 : Yes \n",
        " \n",
        "145 . Your accounts : access other Google services (D) :- 0 : No , 1 : Yes \n",
        " \n",
        "146 . Your accounts : act as an account authenticator (D) :- 0 : No , 1 : Yes \n",
        " \n",
        "147 . Your accounts : act as the AccountManagerService (S) :- 0 : No , 1 : Yes \n",
        " \n",
        "148 . Your accounts : contacts data in Google accounts (D) :- 0 : No , 1 : Yes \n",
        " \n",
        "149 . Your accounts : discover known accounts (S) :- 0 : No , 1 : Yes \n",
        " \n",
        "150 . Your accounts : manage the accounts list (D) :- 0 : No , 1 : Yes \n",
        " \n",
        "151 . Your accounts : read Google service configuration (S) :- 0 : No , 1 : Yes \n",
        " \n",
        "152 . Your accounts : use the authentication credentials of an account (D) :- 0 : No , 1 : Yes \n",
        " \n",
        "153 . Your accounts : view configured accounts (S) :- 0 : No , 1 : Yes \n",
        " \n",
        "154 . Your location : access extra location provider commands (S) :- 0 : No , 1 : Yes \n",
        " \n",
        "155 . Your location : coarse (network-based) location (D) :- 0 : No , 1 : Yes \n",
        " \n",
        "156 . Your location : fine (GPS) location (D) :- 0 : No , 1 : Yes \n",
        " \n",
        "157 . Your location : mock location sources for testing (D) :- 0 : No , 1 : Yes \n",
        " \n",
        "158 . Your messages : Read Email attachments (D) :- 0 : No , 1 : Yes \n",
        " \n",
        "159 . Your messages : Send Gmail (S) :- 0 : No , 1 : Yes \n",
        " \n",
        "160 . Your messages : edit SMS or MMS (D) :- 0 : No , 1 : Yes \n",
        " \n",
        "161 . Your messages : modify Gmail (D) :- 0 : No , 1 : Yes \n",
        " \n",
        "162 . Your messages : read Gmail (D) :- 0 : No , 1 : Yes \n",
        " \n",
        "163 . Your messages : read Gmail attachment previews (D) :- 0 : No , 1 : Yes \n",
        " \n",
        "164 . Your messages : read SMS or MMS (D) :- 0 : No , 1 : Yes \n",
        " \n",
        "165 . Your messages : read instant messages (D) :- 0 : No , 1 : Yes \n",
        " \n",
        "166 . Your messages : receive MMS (D) :- 0 : No , 1 : Yes \n",
        " \n",
        "167 . Your messages : receive SMS (D) :- 0 : No , 1 : Yes \n",
        " \n",
        "168 . Your messages : receive WAP (D) :- 0 : No , 1 : Yes \n",
        " \n",
        "169 . Your messages : send SMS-received broadcast (S) :- 0 : No , 1 : Yes \n",
        " \n",
        "170 . Your messages : send WAP-PUSH-received broadcast (S) :- 0 : No , 1 : Yes \n",
        " \n",
        "171 . Your messages : write instant messages (D) :- 0 : No , 1 : Yes \n",
        " \n",
        "172 . Your personal information : add or modify calendar events and send email to guests (D) :- 0 : No , 1 : Yes \n",
        " \n",
        "173 . Your personal information : choose widgets (S) :- 0 : No , 1 : Yes \n",
        " \n",
        "174 . Your personal information : read Browser's history and bookmarks (D) :- 0 : No , 1 : Yes \n",
        " \n",
        "175 . Your personal information : read calendar events (D) :- 0 : No , 1 : Yes \n",
        " \n",
        "176 . Your personal information : read contact data (D) :- 0 : No , 1 : Yes \n",
        " \n",
        "177 . Your personal information : read sensitive log data (D) :- 0 : No , 1 : Yes \n",
        " \n",
        "178 . Your personal information : read user defined dictionary (D) :- 0 : No , 1 : Yes \n",
        " \n",
        "179 . Your personal information : retrieve system internal state (S) :- 0 : No , 1 : Yes \n",
        " \n",
        "180 . Your personal information : set alarm in alarm clock (S) :- 0 : No , 1 : Yes \n",
        " \n",
        "181 . Your personal information : write Browser's history and bookmarks (D) :- 0 : No , 1 : Yes \n",
        " \n",
        "182 . Your personal information : write contact data (D) :- 0 : No , 1 : Yes \n",
        " \n",
        "183 . Your personal information : write to user defined dictionary (S) :- 0 : No , 1 : Yes \n",
        " \n",
        "184 . Class :- 0 : Benign , 1 : Malware"
      ]
    },
    {
      "cell_type": "markdown",
      "source": [
        "Important packages to be imported"
      ],
      "metadata": {
        "id": "LPLgzxky4M2-"
      }
    },
    {
      "cell_type": "code",
      "source": [
        "import numpy as np\n",
        "import pandas as pd\n",
        "import matplotlib.pyplot as plt\n",
        "import seaborn as sns\n",
        "%matplotlib inline"
      ],
      "metadata": {
        "id": "HBDw2cyV4QE2"
      },
      "execution_count": 57,
      "outputs": []
    },
    {
      "cell_type": "markdown",
      "source": [
        "Mount the drive"
      ],
      "metadata": {
        "id": "q14DUhtU4niM"
      }
    },
    {
      "cell_type": "code",
      "source": [
        "from google.colab import drive\n",
        "drive.mount('/content/drive')"
      ],
      "metadata": {
        "colab": {
          "base_uri": "https://localhost:8080/"
        },
        "id": "GNWIGG_74bVJ",
        "outputId": "c02aeff7-bbf5-4ae6-bb2a-11b099957e57"
      },
      "execution_count": 5,
      "outputs": [
        {
          "output_type": "stream",
          "name": "stdout",
          "text": [
            "Mounted at /content/drive\n"
          ]
        }
      ]
    },
    {
      "cell_type": "markdown",
      "source": [
        "Load the dataset"
      ],
      "metadata": {
        "id": "3KUj4KQR4dDl"
      }
    },
    {
      "cell_type": "code",
      "source": [
        "df = pd.read_csv('/content/drive/MyDrive/ML Classification/Data & Resources/ANDRIOD AUTHENTICITY PREDICTION (1).csv')\n",
        "df.head()"
      ],
      "metadata": {
        "colab": {
          "base_uri": "https://localhost:8080/",
          "height": 664
        },
        "id": "u9GjGK1h4evE",
        "outputId": "58285cde-0f3b-4443-c85e-eff1510602cf"
      },
      "execution_count": 6,
      "outputs": [
        {
          "output_type": "execute_result",
          "data": {
            "text/plain": [
              "                              App                                   Package  \\\n",
              "0         Canada Post Corporation                    com.canadapost.android   \n",
              "1                       Word Farm                 com.realcasualgames.words   \n",
              "2            Fortunes of War FREE                        fortunesofwar.free   \n",
              "3  Better Keyboard: Avatar Purple  com.cc.betterkeyboard.skins.avatarpurple   \n",
              "4                      Boxing Day                indiaNIC.android.BoxingDay   \n",
              "\n",
              "           Category                                        Description  \\\n",
              "0          Business  Canada Post Mobile App gives you access to som...   \n",
              "1    Brain & Puzzle  Speed and strategy combine in this exciting wo...   \n",
              "2    Cards & Casino  Fortunes of War is a fast-paced, easy to learn...   \n",
              "3  Libraries & Demo  Skin for Better Keyboard featuring a glossy fe...   \n",
              "4         Lifestyle  Boxing Day by Christopher Jaymes<p>Based on a ...   \n",
              "\n",
              "   Rating  Number of ratings  Price  \\\n",
              "0     3.1                 77   0.00   \n",
              "1     4.3                199   0.00   \n",
              "2     4.1                243   0.00   \n",
              "3     3.6               2589   0.00   \n",
              "4     0.0                  0   5.99   \n",
              "\n",
              "                                        Related apps  \\\n",
              "0  {com.adaffix.pub.ca.android, com.kevinquan.gas...   \n",
              "1  {air.com.zubawing.FastWordLite, com.joybits.do...   \n",
              "2  {com.kevinquan.condado, hu.monsta.pazaak, net....   \n",
              "3  {eu.gdumoulin.betterandroid.skins.transparent....   \n",
              "4                                                NaN   \n",
              "\n",
              "   Dangerous permissions count  Safe permissions count  ...  \\\n",
              "0                          7.0                       1  ...   \n",
              "1                          3.0                       2  ...   \n",
              "2                          1.0                       1  ...   \n",
              "3                          0.0                       0  ...   \n",
              "4                          1.0                       0  ...   \n",
              "\n",
              "   Your personal information : read calendar events (D)  \\\n",
              "0                                                  0      \n",
              "1                                                  0      \n",
              "2                                                  0      \n",
              "3                                                  0      \n",
              "4                                                  0      \n",
              "\n",
              "   Your personal information : read contact data (D)  \\\n",
              "0                                                  1   \n",
              "1                                                  0   \n",
              "2                                                  0   \n",
              "3                                                  0   \n",
              "4                                                  0   \n",
              "\n",
              "   Your personal information : read sensitive log data (D)  \\\n",
              "0                                                  0         \n",
              "1                                                  0         \n",
              "2                                                  0         \n",
              "3                                                  0         \n",
              "4                                                  0         \n",
              "\n",
              "   Your personal information : read user defined dictionary (D)  \\\n",
              "0                                                  0              \n",
              "1                                                  0              \n",
              "2                                                  0              \n",
              "3                                                  0              \n",
              "4                                                  0              \n",
              "\n",
              "   Your personal information : retrieve system internal state (S)  \\\n",
              "0                                                  0                \n",
              "1                                                  0                \n",
              "2                                                  0                \n",
              "3                                                  0                \n",
              "4                                                  0                \n",
              "\n",
              "   Your personal information : set alarm in alarm clock (S)  \\\n",
              "0                                                  0          \n",
              "1                                                  0          \n",
              "2                                                  0          \n",
              "3                                                  0          \n",
              "4                                                  0          \n",
              "\n",
              "   Your personal information : write Browser's history and bookmarks (D)  \\\n",
              "0                                                  0                       \n",
              "1                                                  0                       \n",
              "2                                                  0                       \n",
              "3                                                  0                       \n",
              "4                                                  0                       \n",
              "\n",
              "   Your personal information : write contact data (D)  \\\n",
              "0                                                  1    \n",
              "1                                                  0    \n",
              "2                                                  0    \n",
              "3                                                  0    \n",
              "4                                                  0    \n",
              "\n",
              "   Your personal information : write to user defined dictionary (S)  Class  \n",
              "0                                                  0                     0  \n",
              "1                                                  0                     0  \n",
              "2                                                  0                     0  \n",
              "3                                                  0                     0  \n",
              "4                                                  0                     1  \n",
              "\n",
              "[5 rows x 184 columns]"
            ],
            "text/html": [
              "\n",
              "  <div id=\"df-defbc366-2f7a-447c-a085-e334b7f6964c\">\n",
              "    <div class=\"colab-df-container\">\n",
              "      <div>\n",
              "<style scoped>\n",
              "    .dataframe tbody tr th:only-of-type {\n",
              "        vertical-align: middle;\n",
              "    }\n",
              "\n",
              "    .dataframe tbody tr th {\n",
              "        vertical-align: top;\n",
              "    }\n",
              "\n",
              "    .dataframe thead th {\n",
              "        text-align: right;\n",
              "    }\n",
              "</style>\n",
              "<table border=\"1\" class=\"dataframe\">\n",
              "  <thead>\n",
              "    <tr style=\"text-align: right;\">\n",
              "      <th></th>\n",
              "      <th>App</th>\n",
              "      <th>Package</th>\n",
              "      <th>Category</th>\n",
              "      <th>Description</th>\n",
              "      <th>Rating</th>\n",
              "      <th>Number of ratings</th>\n",
              "      <th>Price</th>\n",
              "      <th>Related apps</th>\n",
              "      <th>Dangerous permissions count</th>\n",
              "      <th>Safe permissions count</th>\n",
              "      <th>...</th>\n",
              "      <th>Your personal information : read calendar events (D)</th>\n",
              "      <th>Your personal information : read contact data (D)</th>\n",
              "      <th>Your personal information : read sensitive log data (D)</th>\n",
              "      <th>Your personal information : read user defined dictionary (D)</th>\n",
              "      <th>Your personal information : retrieve system internal state (S)</th>\n",
              "      <th>Your personal information : set alarm in alarm clock (S)</th>\n",
              "      <th>Your personal information : write Browser's history and bookmarks (D)</th>\n",
              "      <th>Your personal information : write contact data (D)</th>\n",
              "      <th>Your personal information : write to user defined dictionary (S)</th>\n",
              "      <th>Class</th>\n",
              "    </tr>\n",
              "  </thead>\n",
              "  <tbody>\n",
              "    <tr>\n",
              "      <th>0</th>\n",
              "      <td>Canada Post Corporation</td>\n",
              "      <td>com.canadapost.android</td>\n",
              "      <td>Business</td>\n",
              "      <td>Canada Post Mobile App gives you access to som...</td>\n",
              "      <td>3.1</td>\n",
              "      <td>77</td>\n",
              "      <td>0.00</td>\n",
              "      <td>{com.adaffix.pub.ca.android, com.kevinquan.gas...</td>\n",
              "      <td>7.0</td>\n",
              "      <td>1</td>\n",
              "      <td>...</td>\n",
              "      <td>0</td>\n",
              "      <td>1</td>\n",
              "      <td>0</td>\n",
              "      <td>0</td>\n",
              "      <td>0</td>\n",
              "      <td>0</td>\n",
              "      <td>0</td>\n",
              "      <td>1</td>\n",
              "      <td>0</td>\n",
              "      <td>0</td>\n",
              "    </tr>\n",
              "    <tr>\n",
              "      <th>1</th>\n",
              "      <td>Word Farm</td>\n",
              "      <td>com.realcasualgames.words</td>\n",
              "      <td>Brain &amp; Puzzle</td>\n",
              "      <td>Speed and strategy combine in this exciting wo...</td>\n",
              "      <td>4.3</td>\n",
              "      <td>199</td>\n",
              "      <td>0.00</td>\n",
              "      <td>{air.com.zubawing.FastWordLite, com.joybits.do...</td>\n",
              "      <td>3.0</td>\n",
              "      <td>2</td>\n",
              "      <td>...</td>\n",
              "      <td>0</td>\n",
              "      <td>0</td>\n",
              "      <td>0</td>\n",
              "      <td>0</td>\n",
              "      <td>0</td>\n",
              "      <td>0</td>\n",
              "      <td>0</td>\n",
              "      <td>0</td>\n",
              "      <td>0</td>\n",
              "      <td>0</td>\n",
              "    </tr>\n",
              "    <tr>\n",
              "      <th>2</th>\n",
              "      <td>Fortunes of War FREE</td>\n",
              "      <td>fortunesofwar.free</td>\n",
              "      <td>Cards &amp; Casino</td>\n",
              "      <td>Fortunes of War is a fast-paced, easy to learn...</td>\n",
              "      <td>4.1</td>\n",
              "      <td>243</td>\n",
              "      <td>0.00</td>\n",
              "      <td>{com.kevinquan.condado, hu.monsta.pazaak, net....</td>\n",
              "      <td>1.0</td>\n",
              "      <td>1</td>\n",
              "      <td>...</td>\n",
              "      <td>0</td>\n",
              "      <td>0</td>\n",
              "      <td>0</td>\n",
              "      <td>0</td>\n",
              "      <td>0</td>\n",
              "      <td>0</td>\n",
              "      <td>0</td>\n",
              "      <td>0</td>\n",
              "      <td>0</td>\n",
              "      <td>0</td>\n",
              "    </tr>\n",
              "    <tr>\n",
              "      <th>3</th>\n",
              "      <td>Better Keyboard: Avatar Purple</td>\n",
              "      <td>com.cc.betterkeyboard.skins.avatarpurple</td>\n",
              "      <td>Libraries &amp; Demo</td>\n",
              "      <td>Skin for Better Keyboard featuring a glossy fe...</td>\n",
              "      <td>3.6</td>\n",
              "      <td>2589</td>\n",
              "      <td>0.00</td>\n",
              "      <td>{eu.gdumoulin.betterandroid.skins.transparent....</td>\n",
              "      <td>0.0</td>\n",
              "      <td>0</td>\n",
              "      <td>...</td>\n",
              "      <td>0</td>\n",
              "      <td>0</td>\n",
              "      <td>0</td>\n",
              "      <td>0</td>\n",
              "      <td>0</td>\n",
              "      <td>0</td>\n",
              "      <td>0</td>\n",
              "      <td>0</td>\n",
              "      <td>0</td>\n",
              "      <td>0</td>\n",
              "    </tr>\n",
              "    <tr>\n",
              "      <th>4</th>\n",
              "      <td>Boxing Day</td>\n",
              "      <td>indiaNIC.android.BoxingDay</td>\n",
              "      <td>Lifestyle</td>\n",
              "      <td>Boxing Day by Christopher Jaymes&lt;p&gt;Based on a ...</td>\n",
              "      <td>0.0</td>\n",
              "      <td>0</td>\n",
              "      <td>5.99</td>\n",
              "      <td>NaN</td>\n",
              "      <td>1.0</td>\n",
              "      <td>0</td>\n",
              "      <td>...</td>\n",
              "      <td>0</td>\n",
              "      <td>0</td>\n",
              "      <td>0</td>\n",
              "      <td>0</td>\n",
              "      <td>0</td>\n",
              "      <td>0</td>\n",
              "      <td>0</td>\n",
              "      <td>0</td>\n",
              "      <td>0</td>\n",
              "      <td>1</td>\n",
              "    </tr>\n",
              "  </tbody>\n",
              "</table>\n",
              "<p>5 rows × 184 columns</p>\n",
              "</div>\n",
              "      <button class=\"colab-df-convert\" onclick=\"convertToInteractive('df-defbc366-2f7a-447c-a085-e334b7f6964c')\"\n",
              "              title=\"Convert this dataframe to an interactive table.\"\n",
              "              style=\"display:none;\">\n",
              "        \n",
              "  <svg xmlns=\"http://www.w3.org/2000/svg\" height=\"24px\"viewBox=\"0 0 24 24\"\n",
              "       width=\"24px\">\n",
              "    <path d=\"M0 0h24v24H0V0z\" fill=\"none\"/>\n",
              "    <path d=\"M18.56 5.44l.94 2.06.94-2.06 2.06-.94-2.06-.94-.94-2.06-.94 2.06-2.06.94zm-11 1L8.5 8.5l.94-2.06 2.06-.94-2.06-.94L8.5 2.5l-.94 2.06-2.06.94zm10 10l.94 2.06.94-2.06 2.06-.94-2.06-.94-.94-2.06-.94 2.06-2.06.94z\"/><path d=\"M17.41 7.96l-1.37-1.37c-.4-.4-.92-.59-1.43-.59-.52 0-1.04.2-1.43.59L10.3 9.45l-7.72 7.72c-.78.78-.78 2.05 0 2.83L4 21.41c.39.39.9.59 1.41.59.51 0 1.02-.2 1.41-.59l7.78-7.78 2.81-2.81c.8-.78.8-2.07 0-2.86zM5.41 20L4 18.59l7.72-7.72 1.47 1.35L5.41 20z\"/>\n",
              "  </svg>\n",
              "      </button>\n",
              "      \n",
              "  <style>\n",
              "    .colab-df-container {\n",
              "      display:flex;\n",
              "      flex-wrap:wrap;\n",
              "      gap: 12px;\n",
              "    }\n",
              "\n",
              "    .colab-df-convert {\n",
              "      background-color: #E8F0FE;\n",
              "      border: none;\n",
              "      border-radius: 50%;\n",
              "      cursor: pointer;\n",
              "      display: none;\n",
              "      fill: #1967D2;\n",
              "      height: 32px;\n",
              "      padding: 0 0 0 0;\n",
              "      width: 32px;\n",
              "    }\n",
              "\n",
              "    .colab-df-convert:hover {\n",
              "      background-color: #E2EBFA;\n",
              "      box-shadow: 0px 1px 2px rgba(60, 64, 67, 0.3), 0px 1px 3px 1px rgba(60, 64, 67, 0.15);\n",
              "      fill: #174EA6;\n",
              "    }\n",
              "\n",
              "    [theme=dark] .colab-df-convert {\n",
              "      background-color: #3B4455;\n",
              "      fill: #D2E3FC;\n",
              "    }\n",
              "\n",
              "    [theme=dark] .colab-df-convert:hover {\n",
              "      background-color: #434B5C;\n",
              "      box-shadow: 0px 1px 3px 1px rgba(0, 0, 0, 0.15);\n",
              "      filter: drop-shadow(0px 1px 2px rgba(0, 0, 0, 0.3));\n",
              "      fill: #FFFFFF;\n",
              "    }\n",
              "  </style>\n",
              "\n",
              "      <script>\n",
              "        const buttonEl =\n",
              "          document.querySelector('#df-defbc366-2f7a-447c-a085-e334b7f6964c button.colab-df-convert');\n",
              "        buttonEl.style.display =\n",
              "          google.colab.kernel.accessAllowed ? 'block' : 'none';\n",
              "\n",
              "        async function convertToInteractive(key) {\n",
              "          const element = document.querySelector('#df-defbc366-2f7a-447c-a085-e334b7f6964c');\n",
              "          const dataTable =\n",
              "            await google.colab.kernel.invokeFunction('convertToInteractive',\n",
              "                                                     [key], {});\n",
              "          if (!dataTable) return;\n",
              "\n",
              "          const docLinkHtml = 'Like what you see? Visit the ' +\n",
              "            '<a target=\"_blank\" href=https://colab.research.google.com/notebooks/data_table.ipynb>data table notebook</a>'\n",
              "            + ' to learn more about interactive tables.';\n",
              "          element.innerHTML = '';\n",
              "          dataTable['output_type'] = 'display_data';\n",
              "          await google.colab.output.renderOutput(dataTable, element);\n",
              "          const docLink = document.createElement('div');\n",
              "          docLink.innerHTML = docLinkHtml;\n",
              "          element.appendChild(docLink);\n",
              "        }\n",
              "      </script>\n",
              "    </div>\n",
              "  </div>\n",
              "  "
            ]
          },
          "metadata": {},
          "execution_count": 6
        }
      ]
    },
    {
      "cell_type": "code",
      "source": [
        "df.shape"
      ],
      "metadata": {
        "colab": {
          "base_uri": "https://localhost:8080/"
        },
        "id": "NOTUtltw5Phn",
        "outputId": "5e6f2307-7d5e-43e7-90f3-2ccaf75cb533"
      },
      "execution_count": 7,
      "outputs": [
        {
          "output_type": "execute_result",
          "data": {
            "text/plain": [
              "(29999, 184)"
            ]
          },
          "metadata": {},
          "execution_count": 7
        }
      ]
    },
    {
      "cell_type": "code",
      "source": [
        "df.info(verbose=True, show_counts=True)"
      ],
      "metadata": {
        "colab": {
          "base_uri": "https://localhost:8080/"
        },
        "id": "HxSgnsli55rK",
        "outputId": "2c8aef4f-3f08-4859-dae5-41cf68f72da3"
      },
      "execution_count": 13,
      "outputs": [
        {
          "output_type": "stream",
          "name": "stdout",
          "text": [
            "<class 'pandas.core.frame.DataFrame'>\n",
            "RangeIndex: 29999 entries, 0 to 29998\n",
            "Data columns (total 184 columns):\n",
            " #    Column                                                                                  Non-Null Count  Dtype  \n",
            "---   ------                                                                                  --------------  -----  \n",
            " 0    App                                                                                     29998 non-null  object \n",
            " 1    Package                                                                                 29999 non-null  object \n",
            " 2    Category                                                                                29999 non-null  object \n",
            " 3    Description                                                                             29996 non-null  object \n",
            " 4    Rating                                                                                  29999 non-null  float64\n",
            " 5    Number of ratings                                                                       29999 non-null  int64  \n",
            " 6    Price                                                                                   29999 non-null  float64\n",
            " 7    Related apps                                                                            29244 non-null  object \n",
            " 8    Dangerous permissions count                                                             29795 non-null  float64\n",
            " 9    Safe permissions count                                                                  29999 non-null  int64  \n",
            " 10   Default : Access DRM content. (S)                                                       29999 non-null  int64  \n",
            " 11   Default : Access Email provider data (S)                                                29999 non-null  int64  \n",
            " 12   Default : Access all system downloads (S)                                               29999 non-null  int64  \n",
            " 13   Default : Access download manager. (S)                                                  29999 non-null  int64  \n",
            " 14   Default : Advanced download manager functions. (S)                                      29999 non-null  int64  \n",
            " 15   Default : Audio File Access (S)                                                         29999 non-null  int64  \n",
            " 16   Default : Install DRM content. (S)                                                      29999 non-null  int64  \n",
            " 17   Default : Modify Google service configuration (S)                                       29999 non-null  int64  \n",
            " 18   Default : Modify Google settings (S)                                                    29999 non-null  int64  \n",
            " 19   Default : Move application resources (S)                                                29999 non-null  int64  \n",
            " 20   Default : Read Google settings (S)                                                      29999 non-null  int64  \n",
            " 21   Default : Send download notifications. (S)                                              29999 non-null  int64  \n",
            " 22   Default : Voice Search Shortcuts (S)                                                    29999 non-null  int64  \n",
            " 23   Default : access SurfaceFlinger (S)                                                     29999 non-null  int64  \n",
            " 24   Default : access checkin properties (S)                                                 29999 non-null  int64  \n",
            " 25   Default : access the cache filesystem (S)                                               29999 non-null  int64  \n",
            " 26   Default : access to passwords for Google accounts (S)                                   29999 non-null  int64  \n",
            " 27   Default : act as an account authenticator (S)                                           29999 non-null  int64  \n",
            " 28   Default : bind to a wallpaper (S)                                                       29999 non-null  int64  \n",
            " 29   Default : bind to an input method (S)                                                   29999 non-null  int64  \n",
            " 30   Default : change screen orientation (S)                                                 29999 non-null  int64  \n",
            " 31   Default : coarse (network-based) location (S)                                           29999 non-null  int64  \n",
            " 32   Default : control location update notifications (S)                                     29999 non-null  int64  \n",
            " 33   Default : control system backup and restore (S)                                         29999 non-null  int64  \n",
            " 34   Default : delete applications (S)                                                       29999 non-null  int64  \n",
            " 35   Default : delete other applications' caches (S)                                         29999 non-null  int64  \n",
            " 36   Default : delete other applications' data (S)                                           29999 non-null  int64  \n",
            " 37   Default : directly call any phone numbers (S)                                           29999 non-null  int64  \n",
            " 38   Default : directly install applications (S)                                             29999 non-null  int64  \n",
            " 39   Default : disable or modify status bar (S)                                              29999 non-null  int64  \n",
            " 40   Default : discover known accounts (S)                                                   29999 non-null  int64  \n",
            " 41   Default : display unauthorized windows (S)                                              29999 non-null  int64  \n",
            " 42   Default : enable or disable application components (S)                                  29999 non-null  int64  \n",
            " 43   Default : force application to close (S)                                                29999 non-null  int64  \n",
            " 44   Default : force device reboot (S)                                                       29999 non-null  int64  \n",
            " 45   Default : full Internet access (S)                                                      29999 non-null  int64  \n",
            " 46   Default : interact with a device admin (S)                                              29999 non-null  int64  \n",
            " 47   Default : manage application tokens (S)                                                 29999 non-null  int64  \n",
            " 48   Default : mock location sources for testing (S)                                         29999 non-null  int64  \n",
            " 49   Default : modify battery statistics (S)                                                 29999 non-null  int64  \n",
            " 50   Default : modify secure system settings (S)                                             29999 non-null  int64  \n",
            " 51   Default : modify the Google services map (S)                                            29999 non-null  int64  \n",
            " 52   Default : modify/delete USB storage contents modify/delete SD card contents (S)         29999 non-null  int64  \n",
            " 53   Default : monitor and control all application launching (S)                             29999 non-null  int64  \n",
            " 54   Default : partial shutdown (S)                                                          29999 non-null  int64  \n",
            " 55   Default : permanently disable device (S)                                                29999 non-null  int64  \n",
            " 56   Default : permission to install a location provider (S)                                 29999 non-null  int64  \n",
            " 57   Default : power device on or off (S)                                                    29999 non-null  int64  \n",
            " 58   Default : press keys and control buttons (S)                                            29999 non-null  int64  \n",
            " 59   Default : prevent app switches (S)                                                      29999 non-null  int64  \n",
            " 60   Default : read frame buffer (S)                                                         29999 non-null  int64  \n",
            " 61   Default : read instant messages (S)                                                     29999 non-null  int64  \n",
            " 62   Default : read phone state and identity (S)                                             29999 non-null  int64  \n",
            " 63   Default : record what you type and actions you take (S)                                 29999 non-null  int64  \n",
            " 64   Default : reset system to factory defaults (S)                                          29999 non-null  int64  \n",
            " 65   Default : run in factory test mode (S)                                                  29999 non-null  int64  \n",
            " 66   Default : set time (S)                                                                  29999 non-null  int64  \n",
            " 67   Default : set wallpaper size hints (S)                                                  29999 non-null  int64  \n",
            " 68   Default : start IM service (S)                                                          29999 non-null  int64  \n",
            " 69   Default : update component usage statistics (S)                                         29999 non-null  int64  \n",
            " 70   Default : write contact data (S)                                                        29999 non-null  int64  \n",
            " 71   Default : write instant messages (S)                                                    29999 non-null  int64  \n",
            " 72   Development tools : enable application debugging (D)                                    29999 non-null  int64  \n",
            " 73   Development tools : limit number of running processes (D)                               29999 non-null  int64  \n",
            " 74   Development tools : make all background applications close (D)                          29999 non-null  int64  \n",
            " 75   Development tools : send Linux signals to applications (D)                              29999 non-null  int64  \n",
            " 76   Hardware controls : change your audio settings (D)                                      29999 non-null  int64  \n",
            " 77   Hardware controls : control flashlight (S)                                              29999 non-null  int64  \n",
            " 78   Hardware controls : control vibrator (S)                                                29999 non-null  int64  \n",
            " 79   Hardware controls : record audio (D)                                                    29999 non-null  int64  \n",
            " 80   Hardware controls : take pictures and videos (D)                                        29999 non-null  int64  \n",
            " 81   Hardware controls : test hardware (S)                                                   29999 non-null  int64  \n",
            " 82   Network communication : Broadcast data messages to applications. (S)                    29999 non-null  int64  \n",
            " 83   Network communication : control Near Field Communication (D)                            29999 non-null  int64  \n",
            " 84   Network communication : create Bluetooth connections (D)                                29999 non-null  int64  \n",
            " 85   Network communication : download files without notification (S)                         29999 non-null  int64  \n",
            " 86   Network communication : full Internet access (D)                                        29999 non-null  int64  \n",
            " 87   Network communication : make/receive Internet calls (D)                                 29999 non-null  int64  \n",
            " 88   Network communication : receive data from Internet (S)                                  29999 non-null  int64  \n",
            " 89   Network communication : view Wi-Fi state (S)                                            29999 non-null  int64  \n",
            " 90   Network communication : view network state (S)                                          29999 non-null  int64  \n",
            " 91   Phone calls : intercept outgoing calls (D)                                              29999 non-null  int64  \n",
            " 92   Phone calls : modify phone state (S)                                                    29999 non-null  int64  \n",
            " 93   Phone calls : read phone state and identity (D)                                         29999 non-null  int64  \n",
            " 94   Services that cost you money : directly call phone numbers (D)                          29999 non-null  int64  \n",
            " 95   Services that cost you money : send SMS messages (D)                                    29999 non-null  int64  \n",
            " 96   Storage : modify/delete USB storage contents modify/delete SD card contents (D)         29999 non-null  int64  \n",
            " 97   System tools : allow Wi-Fi Multicast reception (D)                                      29999 non-null  int64  \n",
            " 98   System tools : automatically start at boot (S)                                          29999 non-null  int64  \n",
            " 99   System tools : bluetooth administration (D)                                             29999 non-null  int64  \n",
            " 100  System tools : change Wi-Fi state (D)                                                   29999 non-null  int64  \n",
            " 101  System tools : change background data usage setting (S)                                 29999 non-null  int64  \n",
            " 102  System tools : change network connectivity (D)                                          29999 non-null  int64  \n",
            " 103  System tools : change your UI settings (D)                                              29999 non-null  int64  \n",
            " 104  System tools : delete all application cache data (D)                                    29999 non-null  int64  \n",
            " 105  System tools : disable keylock (D)                                                      29999 non-null  int64  \n",
            " 106  System tools : display system-level alerts (D)                                          29999 non-null  int64  \n",
            " 107  System tools : expand/collapse status bar (S)                                           29999 non-null  int64  \n",
            " 108  System tools : force stop other applications (S)                                        29999 non-null  int64  \n",
            " 109  System tools : format external storage (D)                                              29999 non-null  int64  \n",
            " 110  System tools : kill background processes (S)                                            29999 non-null  int64  \n",
            " 111  System tools : make application always run (D)                                          29999 non-null  int64  \n",
            " 112  System tools : measure application storage space (S)                                    29999 non-null  int64  \n",
            " 113  System tools : modify global animation speed (D)                                        29999 non-null  int64  \n",
            " 114  System tools : modify global system settings (D)                                        29999 non-null  int64  \n",
            " 115  System tools : mount and unmount filesystems (D)                                        29999 non-null  int64  \n",
            " 116  System tools : prevent device from sleeping (D)                                         29999 non-null  int64  \n",
            " 117  System tools : read subscribed feeds (S)                                                29999 non-null  int64  \n",
            " 118  System tools : read sync settings (S)                                                   29999 non-null  int64  \n",
            " 119  System tools : read sync statistics (S)                                                 29999 non-null  int64  \n",
            " 120  System tools : read/write to resources owned by diag (S)                                29999 non-null  int64  \n",
            " 121  System tools : reorder running applications (D)                                         29999 non-null  int64  \n",
            " 122  System tools : retrieve running applications (D)                                        29999 non-null  int64  \n",
            " 123  System tools : send package removed broadcast (S)                                       29999 non-null  int64  \n",
            " 124  System tools : send sticky broadcast (S)                                                29999 non-null  int64  \n",
            " 125  System tools : set preferred applications (S)                                           29999 non-null  int64  \n",
            " 126  System tools : set time zone (D)                                                        29999 non-null  int64  \n",
            " 127  System tools : set wallpaper (S)                                                        29999 non-null  int64  \n",
            " 128  System tools : set wallpaper size hints (S)                                             29999 non-null  int64  \n",
            " 129  System tools : write Access Point Name settings (D)                                     29999 non-null  int64  \n",
            " 130  System tools : write subscribed feeds (D)                                               29999 non-null  int64  \n",
            " 131  System tools : write sync settings (D)                                                  29999 non-null  int64  \n",
            " 132  Your accounts : Blogger (D)                                                             29999 non-null  int64  \n",
            " 133  Your accounts : Google App Engine (D)                                                   29999 non-null  int64  \n",
            " 134  Your accounts : Google Docs (D)                                                         29999 non-null  int64  \n",
            " 135  Your accounts : Google Finance (D)                                                      29999 non-null  int64  \n",
            " 136  Your accounts : Google Maps (D)                                                         29999 non-null  int64  \n",
            " 137  Your accounts : Google Spreadsheets (D)                                                 29999 non-null  int64  \n",
            " 138  Your accounts : Google Voice (D)                                                        29999 non-null  int64  \n",
            " 139  Your accounts : Google mail (D)                                                         29999 non-null  int64  \n",
            " 140  Your accounts : Picasa Web Albums (D)                                                   29999 non-null  int64  \n",
            " 141  Your accounts : YouTube (D)                                                             29999 non-null  int64  \n",
            " 142  Your accounts : YouTube usernames (D)                                                   29999 non-null  int64  \n",
            " 143  Your accounts : access all Google services (S)                                          29999 non-null  int64  \n",
            " 144  Your accounts : access other Google services (D)                                        29999 non-null  int64  \n",
            " 145  Your accounts : act as an account authenticator (D)                                     29999 non-null  int64  \n",
            " 146  Your accounts : act as the AccountManagerService (S)                                    29999 non-null  int64  \n",
            " 147  Your accounts : contacts data in Google accounts (D)                                    29999 non-null  int64  \n",
            " 148  Your accounts : discover known accounts (S)                                             29999 non-null  int64  \n",
            " 149  Your accounts : manage the accounts list (D)                                            29999 non-null  int64  \n",
            " 150  Your accounts : read Google service configuration (S)                                   29999 non-null  int64  \n",
            " 151  Your accounts : use the authentication credentials of an account (D)                    29999 non-null  int64  \n",
            " 152  Your accounts : view configured accounts (S)                                            29999 non-null  int64  \n",
            " 153  Your location : access extra location provider commands (S)                             29999 non-null  int64  \n",
            " 154  Your location : coarse (network-based) location (D)                                     29999 non-null  int64  \n",
            " 155  Your location : fine (GPS) location (D)                                                 29999 non-null  int64  \n",
            " 156  Your location : mock location sources for testing (D)                                   29999 non-null  int64  \n",
            " 157  Your messages : Read Email attachments (D)                                              29999 non-null  int64  \n",
            " 158  Your messages : Send Gmail (S)                                                          29999 non-null  int64  \n",
            " 159  Your messages : edit SMS or MMS (D)                                                     29999 non-null  int64  \n",
            " 160  Your messages : modify Gmail (D)                                                        29999 non-null  int64  \n",
            " 161  Your messages : read Gmail (D)                                                          29999 non-null  int64  \n",
            " 162  Your messages : read Gmail attachment previews (D)                                      29999 non-null  int64  \n",
            " 163  Your messages : read SMS or MMS (D)                                                     29999 non-null  int64  \n",
            " 164  Your messages : read instant messages (D)                                               29999 non-null  int64  \n",
            " 165  Your messages : receive MMS (D)                                                         29999 non-null  int64  \n",
            " 166  Your messages : receive SMS (D)                                                         29999 non-null  int64  \n",
            " 167  Your messages : receive WAP (D)                                                         29999 non-null  int64  \n",
            " 168  Your messages : send SMS-received broadcast (S)                                         29999 non-null  int64  \n",
            " 169  Your messages : send WAP-PUSH-received broadcast (S)                                    29999 non-null  int64  \n",
            " 170  Your messages : write instant messages (D)                                              29999 non-null  int64  \n",
            " 171  Your personal information : add or modify calendar events and send email to guests (D)  29999 non-null  int64  \n",
            " 172  Your personal information : choose widgets (S)                                          29999 non-null  int64  \n",
            " 173  Your personal information : read Browser's history and bookmarks (D)                    29999 non-null  int64  \n",
            " 174  Your personal information : read calendar events (D)                                    29999 non-null  int64  \n",
            " 175  Your personal information : read contact data (D)                                       29999 non-null  int64  \n",
            " 176  Your personal information : read sensitive log data (D)                                 29999 non-null  int64  \n",
            " 177  Your personal information : read user defined dictionary (D)                            29999 non-null  int64  \n",
            " 178  Your personal information : retrieve system internal state (S)                          29999 non-null  int64  \n",
            " 179  Your personal information : set alarm in alarm clock (S)                                29999 non-null  int64  \n",
            " 180  Your personal information : write Browser's history and bookmarks (D)                   29999 non-null  int64  \n",
            " 181  Your personal information : write contact data (D)                                      29999 non-null  int64  \n",
            " 182  Your personal information : write to user defined dictionary (S)                        29999 non-null  int64  \n",
            " 183  Class                                                                                   29999 non-null  int64  \n",
            "dtypes: float64(3), int64(176), object(5)\n",
            "memory usage: 42.1+ MB\n"
          ]
        }
      ]
    },
    {
      "cell_type": "markdown",
      "source": [
        "As from the above we can see that there are some columns with the null values"
      ],
      "metadata": {
        "id": "fxpsX_iKn1ps"
      }
    },
    {
      "cell_type": "code",
      "source": [
        "col_with_null = []\n",
        "for col in df.columns:\n",
        "  if(df[col].isnull().values.any() or df[col].values.any() == \" \"):\n",
        "    col_with_null.append(col)"
      ],
      "metadata": {
        "id": "joXweF-C_OBO"
      },
      "execution_count": 20,
      "outputs": []
    },
    {
      "cell_type": "code",
      "source": [
        "col_with_null"
      ],
      "metadata": {
        "colab": {
          "base_uri": "https://localhost:8080/"
        },
        "id": "6PeWE4GEohgf",
        "outputId": "c0be0bdb-9b6f-4f1a-8f2e-5eaba5add4f6"
      },
      "execution_count": 21,
      "outputs": [
        {
          "output_type": "execute_result",
          "data": {
            "text/plain": [
              "['App', 'Description', 'Related apps', 'Dangerous permissions count']"
            ]
          },
          "metadata": {},
          "execution_count": 21
        }
      ]
    },
    {
      "cell_type": "code",
      "source": [
        "len(col_with_null)"
      ],
      "metadata": {
        "colab": {
          "base_uri": "https://localhost:8080/"
        },
        "id": "uNMWWDppqX3G",
        "outputId": "df009c8d-4d51-4d85-cc65-19205bc2db3c"
      },
      "execution_count": 22,
      "outputs": [
        {
          "output_type": "execute_result",
          "data": {
            "text/plain": [
              "4"
            ]
          },
          "metadata": {},
          "execution_count": 22
        }
      ]
    },
    {
      "cell_type": "markdown",
      "source": [
        "From the above we can see that, there are 4 colmns with the null values"
      ],
      "metadata": {
        "id": "d0JPHJ8UrclP"
      }
    },
    {
      "cell_type": "code",
      "source": [
        "for col in col_with_null:\n",
        "  percentage  = df[col].isna().sum()*100/ len(df)\n",
        "  print('Null value percentage for ',col ,'is ',percentage)"
      ],
      "metadata": {
        "colab": {
          "base_uri": "https://localhost:8080/"
        },
        "id": "TpIex5ZXrbJS",
        "outputId": "c53523bc-c576-4d6d-e62b-f014db8be4e6"
      },
      "execution_count": 23,
      "outputs": [
        {
          "output_type": "stream",
          "name": "stdout",
          "text": [
            "Null value percentage for  App is  0.0033334444481482716\n",
            "Null value percentage for  Description is  0.010000333344444815\n",
            "Null value percentage for  Related apps is  2.516750558351945\n",
            "Null value percentage for  Dangerous permissions count is  0.6800226674222474\n"
          ]
        }
      ]
    },
    {
      "cell_type": "markdown",
      "source": [
        "So, from the baove analysis we can say that null values are very low when compared to the size of the dataset. So, we can simply drop the null values."
      ],
      "metadata": {
        "id": "jEN_dZ0xvzYa"
      }
    },
    {
      "cell_type": "code",
      "source": [
        "df.dropna(inplace=True)"
      ],
      "metadata": {
        "id": "YoZg6_IYvjdU"
      },
      "execution_count": 24,
      "outputs": []
    },
    {
      "cell_type": "code",
      "source": [
        "df.shape"
      ],
      "metadata": {
        "colab": {
          "base_uri": "https://localhost:8080/"
        },
        "id": "eGQukuwSwB6n",
        "outputId": "c604b8a5-5692-45b2-ff56-cba8e285a99f"
      },
      "execution_count": 25,
      "outputs": [
        {
          "output_type": "execute_result",
          "data": {
            "text/plain": [
              "(29240, 184)"
            ]
          },
          "metadata": {},
          "execution_count": 25
        }
      ]
    },
    {
      "cell_type": "markdown",
      "source": [
        "Let's check for duplicated values in tha dataframe"
      ],
      "metadata": {
        "id": "WenKusmxwH3O"
      }
    },
    {
      "cell_type": "code",
      "source": [
        "df.duplicated().sum()"
      ],
      "metadata": {
        "colab": {
          "base_uri": "https://localhost:8080/"
        },
        "id": "QPsQiBd-wDvw",
        "outputId": "177a949a-beec-4f53-db04-a579167e8b68"
      },
      "execution_count": 27,
      "outputs": [
        {
          "output_type": "execute_result",
          "data": {
            "text/plain": [
              "2654"
            ]
          },
          "metadata": {},
          "execution_count": 27
        }
      ]
    },
    {
      "cell_type": "markdown",
      "source": [
        "Here we can see that there are 2654 rows with the duplicated values. So, let's drop them."
      ],
      "metadata": {
        "id": "JTSMUQKowcmq"
      }
    },
    {
      "cell_type": "code",
      "source": [
        "df.drop_duplicates(inplace=True)"
      ],
      "metadata": {
        "id": "Whx51zsMwNRY"
      },
      "execution_count": 30,
      "outputs": []
    },
    {
      "cell_type": "code",
      "source": [
        "df.shape"
      ],
      "metadata": {
        "colab": {
          "base_uri": "https://localhost:8080/"
        },
        "id": "WCKcJwCqwsoj",
        "outputId": "8ebba14b-898f-47cc-8deb-04dbc20bbddb"
      },
      "execution_count": 31,
      "outputs": [
        {
          "output_type": "execute_result",
          "data": {
            "text/plain": [
              "(26586, 184)"
            ]
          },
          "metadata": {},
          "execution_count": 31
        }
      ]
    },
    {
      "cell_type": "code",
      "source": [
        "df.describe()"
      ],
      "metadata": {
        "colab": {
          "base_uri": "https://localhost:8080/",
          "height": 515
        },
        "id": "Bh_S-3oIw36f",
        "outputId": "59af5440-b499-488a-f2e0-bfb402ded112"
      },
      "execution_count": 32,
      "outputs": [
        {
          "output_type": "execute_result",
          "data": {
            "text/plain": [
              "             Rating  Number of ratings         Price  \\\n",
              "count  26586.000000       2.658600e+04  26586.000000   \n",
              "mean       3.564493       5.370046e+03      0.599750   \n",
              "std        1.380888       4.371014e+04      3.306346   \n",
              "min        0.000000       0.000000e+00      0.000000   \n",
              "25%        3.300000       4.000000e+00      0.000000   \n",
              "50%        4.000000       4.100000e+01      0.000000   \n",
              "75%        4.400000       5.210000e+02      0.000000   \n",
              "max        5.000000       1.908590e+06    158.070000   \n",
              "\n",
              "       Dangerous permissions count  Safe permissions count  \\\n",
              "count                 26586.000000            26586.000000   \n",
              "mean                      3.035733                1.321447   \n",
              "std                       2.993178                1.495085   \n",
              "min                       0.000000                0.000000   \n",
              "25%                       1.000000                0.000000   \n",
              "50%                       2.000000                1.000000   \n",
              "75%                       4.000000                2.000000   \n",
              "max                      30.000000               16.000000   \n",
              "\n",
              "       Default : Access DRM content. (S)  \\\n",
              "count                       26586.000000   \n",
              "mean                            0.000226   \n",
              "std                             0.015021   \n",
              "min                             0.000000   \n",
              "25%                             0.000000   \n",
              "50%                             0.000000   \n",
              "75%                             0.000000   \n",
              "max                             1.000000   \n",
              "\n",
              "       Default : Access Email provider data (S)  \\\n",
              "count                              26586.000000   \n",
              "mean                                   0.000639   \n",
              "std                                    0.025279   \n",
              "min                                    0.000000   \n",
              "25%                                    0.000000   \n",
              "50%                                    0.000000   \n",
              "75%                                    0.000000   \n",
              "max                                    1.000000   \n",
              "\n",
              "       Default : Access all system downloads (S)  \\\n",
              "count                                    26586.0   \n",
              "mean                                         0.0   \n",
              "std                                          0.0   \n",
              "min                                          0.0   \n",
              "25%                                          0.0   \n",
              "50%                                          0.0   \n",
              "75%                                          0.0   \n",
              "max                                          0.0   \n",
              "\n",
              "       Default : Access download manager. (S)  \\\n",
              "count                            26586.000000   \n",
              "mean                                 0.000376   \n",
              "std                                  0.019391   \n",
              "min                                  0.000000   \n",
              "25%                                  0.000000   \n",
              "50%                                  0.000000   \n",
              "75%                                  0.000000   \n",
              "max                                  1.000000   \n",
              "\n",
              "       Default : Advanced download manager functions. (S)  ...  \\\n",
              "count                                       26586.000000   ...   \n",
              "mean                                            0.000038   ...   \n",
              "std                                             0.006133   ...   \n",
              "min                                             0.000000   ...   \n",
              "25%                                             0.000000   ...   \n",
              "50%                                             0.000000   ...   \n",
              "75%                                             0.000000   ...   \n",
              "max                                             1.000000   ...   \n",
              "\n",
              "       Your personal information : read calendar events (D)  \\\n",
              "count                                       26586.000000      \n",
              "mean                                            0.014406      \n",
              "std                                             0.119160      \n",
              "min                                             0.000000      \n",
              "25%                                             0.000000      \n",
              "50%                                             0.000000      \n",
              "75%                                             0.000000      \n",
              "max                                             1.000000      \n",
              "\n",
              "       Your personal information : read contact data (D)  \\\n",
              "count                                       26586.000000   \n",
              "mean                                            0.085722   \n",
              "std                                             0.279958   \n",
              "min                                             0.000000   \n",
              "25%                                             0.000000   \n",
              "50%                                             0.000000   \n",
              "75%                                             0.000000   \n",
              "max                                             1.000000   \n",
              "\n",
              "       Your personal information : read sensitive log data (D)  \\\n",
              "count                                       26586.000000         \n",
              "mean                                            0.022681         \n",
              "std                                             0.148888         \n",
              "min                                             0.000000         \n",
              "25%                                             0.000000         \n",
              "50%                                             0.000000         \n",
              "75%                                             0.000000         \n",
              "max                                             1.000000         \n",
              "\n",
              "       Your personal information : read user defined dictionary (D)  \\\n",
              "count                                       26586.000000              \n",
              "mean                                            0.001241              \n",
              "std                                             0.035210              \n",
              "min                                             0.000000              \n",
              "25%                                             0.000000              \n",
              "50%                                             0.000000              \n",
              "75%                                             0.000000              \n",
              "max                                             1.000000              \n",
              "\n",
              "       Your personal information : retrieve system internal state (S)  \\\n",
              "count                                       26586.000000                \n",
              "mean                                            0.000527                \n",
              "std                                             0.022942                \n",
              "min                                             0.000000                \n",
              "25%                                             0.000000                \n",
              "50%                                             0.000000                \n",
              "75%                                             0.000000                \n",
              "max                                             1.000000                \n",
              "\n",
              "       Your personal information : set alarm in alarm clock (S)  \\\n",
              "count                                       26586.000000          \n",
              "mean                                            0.000451          \n",
              "std                                             0.021241          \n",
              "min                                             0.000000          \n",
              "25%                                             0.000000          \n",
              "50%                                             0.000000          \n",
              "75%                                             0.000000          \n",
              "max                                             1.000000          \n",
              "\n",
              "       Your personal information : write Browser's history and bookmarks (D)  \\\n",
              "count                                       26586.000000                       \n",
              "mean                                            0.014895                       \n",
              "std                                             0.121135                       \n",
              "min                                             0.000000                       \n",
              "25%                                             0.000000                       \n",
              "50%                                             0.000000                       \n",
              "75%                                             0.000000                       \n",
              "max                                             1.000000                       \n",
              "\n",
              "       Your personal information : write contact data (D)  \\\n",
              "count                                       26586.000000    \n",
              "mean                                            0.038930    \n",
              "std                                             0.193432    \n",
              "min                                             0.000000    \n",
              "25%                                             0.000000    \n",
              "50%                                             0.000000    \n",
              "75%                                             0.000000    \n",
              "max                                             1.000000    \n",
              "\n",
              "       Your personal information : write to user defined dictionary (S)  \\\n",
              "count                                       26586.000000                  \n",
              "mean                                            0.001316                  \n",
              "std                                             0.036260                  \n",
              "min                                             0.000000                  \n",
              "25%                                             0.000000                  \n",
              "50%                                             0.000000                  \n",
              "75%                                             0.000000                  \n",
              "max                                             1.000000                  \n",
              "\n",
              "              Class  \n",
              "count  26586.000000  \n",
              "mean       0.661702  \n",
              "std        0.473140  \n",
              "min        0.000000  \n",
              "25%        0.000000  \n",
              "50%        1.000000  \n",
              "75%        1.000000  \n",
              "max        1.000000  \n",
              "\n",
              "[8 rows x 179 columns]"
            ],
            "text/html": [
              "\n",
              "  <div id=\"df-bb8de8c8-7876-4ee6-ba0b-5d418f12d924\">\n",
              "    <div class=\"colab-df-container\">\n",
              "      <div>\n",
              "<style scoped>\n",
              "    .dataframe tbody tr th:only-of-type {\n",
              "        vertical-align: middle;\n",
              "    }\n",
              "\n",
              "    .dataframe tbody tr th {\n",
              "        vertical-align: top;\n",
              "    }\n",
              "\n",
              "    .dataframe thead th {\n",
              "        text-align: right;\n",
              "    }\n",
              "</style>\n",
              "<table border=\"1\" class=\"dataframe\">\n",
              "  <thead>\n",
              "    <tr style=\"text-align: right;\">\n",
              "      <th></th>\n",
              "      <th>Rating</th>\n",
              "      <th>Number of ratings</th>\n",
              "      <th>Price</th>\n",
              "      <th>Dangerous permissions count</th>\n",
              "      <th>Safe permissions count</th>\n",
              "      <th>Default : Access DRM content. (S)</th>\n",
              "      <th>Default : Access Email provider data (S)</th>\n",
              "      <th>Default : Access all system downloads (S)</th>\n",
              "      <th>Default : Access download manager. (S)</th>\n",
              "      <th>Default : Advanced download manager functions. (S)</th>\n",
              "      <th>...</th>\n",
              "      <th>Your personal information : read calendar events (D)</th>\n",
              "      <th>Your personal information : read contact data (D)</th>\n",
              "      <th>Your personal information : read sensitive log data (D)</th>\n",
              "      <th>Your personal information : read user defined dictionary (D)</th>\n",
              "      <th>Your personal information : retrieve system internal state (S)</th>\n",
              "      <th>Your personal information : set alarm in alarm clock (S)</th>\n",
              "      <th>Your personal information : write Browser's history and bookmarks (D)</th>\n",
              "      <th>Your personal information : write contact data (D)</th>\n",
              "      <th>Your personal information : write to user defined dictionary (S)</th>\n",
              "      <th>Class</th>\n",
              "    </tr>\n",
              "  </thead>\n",
              "  <tbody>\n",
              "    <tr>\n",
              "      <th>count</th>\n",
              "      <td>26586.000000</td>\n",
              "      <td>2.658600e+04</td>\n",
              "      <td>26586.000000</td>\n",
              "      <td>26586.000000</td>\n",
              "      <td>26586.000000</td>\n",
              "      <td>26586.000000</td>\n",
              "      <td>26586.000000</td>\n",
              "      <td>26586.0</td>\n",
              "      <td>26586.000000</td>\n",
              "      <td>26586.000000</td>\n",
              "      <td>...</td>\n",
              "      <td>26586.000000</td>\n",
              "      <td>26586.000000</td>\n",
              "      <td>26586.000000</td>\n",
              "      <td>26586.000000</td>\n",
              "      <td>26586.000000</td>\n",
              "      <td>26586.000000</td>\n",
              "      <td>26586.000000</td>\n",
              "      <td>26586.000000</td>\n",
              "      <td>26586.000000</td>\n",
              "      <td>26586.000000</td>\n",
              "    </tr>\n",
              "    <tr>\n",
              "      <th>mean</th>\n",
              "      <td>3.564493</td>\n",
              "      <td>5.370046e+03</td>\n",
              "      <td>0.599750</td>\n",
              "      <td>3.035733</td>\n",
              "      <td>1.321447</td>\n",
              "      <td>0.000226</td>\n",
              "      <td>0.000639</td>\n",
              "      <td>0.0</td>\n",
              "      <td>0.000376</td>\n",
              "      <td>0.000038</td>\n",
              "      <td>...</td>\n",
              "      <td>0.014406</td>\n",
              "      <td>0.085722</td>\n",
              "      <td>0.022681</td>\n",
              "      <td>0.001241</td>\n",
              "      <td>0.000527</td>\n",
              "      <td>0.000451</td>\n",
              "      <td>0.014895</td>\n",
              "      <td>0.038930</td>\n",
              "      <td>0.001316</td>\n",
              "      <td>0.661702</td>\n",
              "    </tr>\n",
              "    <tr>\n",
              "      <th>std</th>\n",
              "      <td>1.380888</td>\n",
              "      <td>4.371014e+04</td>\n",
              "      <td>3.306346</td>\n",
              "      <td>2.993178</td>\n",
              "      <td>1.495085</td>\n",
              "      <td>0.015021</td>\n",
              "      <td>0.025279</td>\n",
              "      <td>0.0</td>\n",
              "      <td>0.019391</td>\n",
              "      <td>0.006133</td>\n",
              "      <td>...</td>\n",
              "      <td>0.119160</td>\n",
              "      <td>0.279958</td>\n",
              "      <td>0.148888</td>\n",
              "      <td>0.035210</td>\n",
              "      <td>0.022942</td>\n",
              "      <td>0.021241</td>\n",
              "      <td>0.121135</td>\n",
              "      <td>0.193432</td>\n",
              "      <td>0.036260</td>\n",
              "      <td>0.473140</td>\n",
              "    </tr>\n",
              "    <tr>\n",
              "      <th>min</th>\n",
              "      <td>0.000000</td>\n",
              "      <td>0.000000e+00</td>\n",
              "      <td>0.000000</td>\n",
              "      <td>0.000000</td>\n",
              "      <td>0.000000</td>\n",
              "      <td>0.000000</td>\n",
              "      <td>0.000000</td>\n",
              "      <td>0.0</td>\n",
              "      <td>0.000000</td>\n",
              "      <td>0.000000</td>\n",
              "      <td>...</td>\n",
              "      <td>0.000000</td>\n",
              "      <td>0.000000</td>\n",
              "      <td>0.000000</td>\n",
              "      <td>0.000000</td>\n",
              "      <td>0.000000</td>\n",
              "      <td>0.000000</td>\n",
              "      <td>0.000000</td>\n",
              "      <td>0.000000</td>\n",
              "      <td>0.000000</td>\n",
              "      <td>0.000000</td>\n",
              "    </tr>\n",
              "    <tr>\n",
              "      <th>25%</th>\n",
              "      <td>3.300000</td>\n",
              "      <td>4.000000e+00</td>\n",
              "      <td>0.000000</td>\n",
              "      <td>1.000000</td>\n",
              "      <td>0.000000</td>\n",
              "      <td>0.000000</td>\n",
              "      <td>0.000000</td>\n",
              "      <td>0.0</td>\n",
              "      <td>0.000000</td>\n",
              "      <td>0.000000</td>\n",
              "      <td>...</td>\n",
              "      <td>0.000000</td>\n",
              "      <td>0.000000</td>\n",
              "      <td>0.000000</td>\n",
              "      <td>0.000000</td>\n",
              "      <td>0.000000</td>\n",
              "      <td>0.000000</td>\n",
              "      <td>0.000000</td>\n",
              "      <td>0.000000</td>\n",
              "      <td>0.000000</td>\n",
              "      <td>0.000000</td>\n",
              "    </tr>\n",
              "    <tr>\n",
              "      <th>50%</th>\n",
              "      <td>4.000000</td>\n",
              "      <td>4.100000e+01</td>\n",
              "      <td>0.000000</td>\n",
              "      <td>2.000000</td>\n",
              "      <td>1.000000</td>\n",
              "      <td>0.000000</td>\n",
              "      <td>0.000000</td>\n",
              "      <td>0.0</td>\n",
              "      <td>0.000000</td>\n",
              "      <td>0.000000</td>\n",
              "      <td>...</td>\n",
              "      <td>0.000000</td>\n",
              "      <td>0.000000</td>\n",
              "      <td>0.000000</td>\n",
              "      <td>0.000000</td>\n",
              "      <td>0.000000</td>\n",
              "      <td>0.000000</td>\n",
              "      <td>0.000000</td>\n",
              "      <td>0.000000</td>\n",
              "      <td>0.000000</td>\n",
              "      <td>1.000000</td>\n",
              "    </tr>\n",
              "    <tr>\n",
              "      <th>75%</th>\n",
              "      <td>4.400000</td>\n",
              "      <td>5.210000e+02</td>\n",
              "      <td>0.000000</td>\n",
              "      <td>4.000000</td>\n",
              "      <td>2.000000</td>\n",
              "      <td>0.000000</td>\n",
              "      <td>0.000000</td>\n",
              "      <td>0.0</td>\n",
              "      <td>0.000000</td>\n",
              "      <td>0.000000</td>\n",
              "      <td>...</td>\n",
              "      <td>0.000000</td>\n",
              "      <td>0.000000</td>\n",
              "      <td>0.000000</td>\n",
              "      <td>0.000000</td>\n",
              "      <td>0.000000</td>\n",
              "      <td>0.000000</td>\n",
              "      <td>0.000000</td>\n",
              "      <td>0.000000</td>\n",
              "      <td>0.000000</td>\n",
              "      <td>1.000000</td>\n",
              "    </tr>\n",
              "    <tr>\n",
              "      <th>max</th>\n",
              "      <td>5.000000</td>\n",
              "      <td>1.908590e+06</td>\n",
              "      <td>158.070000</td>\n",
              "      <td>30.000000</td>\n",
              "      <td>16.000000</td>\n",
              "      <td>1.000000</td>\n",
              "      <td>1.000000</td>\n",
              "      <td>0.0</td>\n",
              "      <td>1.000000</td>\n",
              "      <td>1.000000</td>\n",
              "      <td>...</td>\n",
              "      <td>1.000000</td>\n",
              "      <td>1.000000</td>\n",
              "      <td>1.000000</td>\n",
              "      <td>1.000000</td>\n",
              "      <td>1.000000</td>\n",
              "      <td>1.000000</td>\n",
              "      <td>1.000000</td>\n",
              "      <td>1.000000</td>\n",
              "      <td>1.000000</td>\n",
              "      <td>1.000000</td>\n",
              "    </tr>\n",
              "  </tbody>\n",
              "</table>\n",
              "<p>8 rows × 179 columns</p>\n",
              "</div>\n",
              "      <button class=\"colab-df-convert\" onclick=\"convertToInteractive('df-bb8de8c8-7876-4ee6-ba0b-5d418f12d924')\"\n",
              "              title=\"Convert this dataframe to an interactive table.\"\n",
              "              style=\"display:none;\">\n",
              "        \n",
              "  <svg xmlns=\"http://www.w3.org/2000/svg\" height=\"24px\"viewBox=\"0 0 24 24\"\n",
              "       width=\"24px\">\n",
              "    <path d=\"M0 0h24v24H0V0z\" fill=\"none\"/>\n",
              "    <path d=\"M18.56 5.44l.94 2.06.94-2.06 2.06-.94-2.06-.94-.94-2.06-.94 2.06-2.06.94zm-11 1L8.5 8.5l.94-2.06 2.06-.94-2.06-.94L8.5 2.5l-.94 2.06-2.06.94zm10 10l.94 2.06.94-2.06 2.06-.94-2.06-.94-.94-2.06-.94 2.06-2.06.94z\"/><path d=\"M17.41 7.96l-1.37-1.37c-.4-.4-.92-.59-1.43-.59-.52 0-1.04.2-1.43.59L10.3 9.45l-7.72 7.72c-.78.78-.78 2.05 0 2.83L4 21.41c.39.39.9.59 1.41.59.51 0 1.02-.2 1.41-.59l7.78-7.78 2.81-2.81c.8-.78.8-2.07 0-2.86zM5.41 20L4 18.59l7.72-7.72 1.47 1.35L5.41 20z\"/>\n",
              "  </svg>\n",
              "      </button>\n",
              "      \n",
              "  <style>\n",
              "    .colab-df-container {\n",
              "      display:flex;\n",
              "      flex-wrap:wrap;\n",
              "      gap: 12px;\n",
              "    }\n",
              "\n",
              "    .colab-df-convert {\n",
              "      background-color: #E8F0FE;\n",
              "      border: none;\n",
              "      border-radius: 50%;\n",
              "      cursor: pointer;\n",
              "      display: none;\n",
              "      fill: #1967D2;\n",
              "      height: 32px;\n",
              "      padding: 0 0 0 0;\n",
              "      width: 32px;\n",
              "    }\n",
              "\n",
              "    .colab-df-convert:hover {\n",
              "      background-color: #E2EBFA;\n",
              "      box-shadow: 0px 1px 2px rgba(60, 64, 67, 0.3), 0px 1px 3px 1px rgba(60, 64, 67, 0.15);\n",
              "      fill: #174EA6;\n",
              "    }\n",
              "\n",
              "    [theme=dark] .colab-df-convert {\n",
              "      background-color: #3B4455;\n",
              "      fill: #D2E3FC;\n",
              "    }\n",
              "\n",
              "    [theme=dark] .colab-df-convert:hover {\n",
              "      background-color: #434B5C;\n",
              "      box-shadow: 0px 1px 3px 1px rgba(0, 0, 0, 0.15);\n",
              "      filter: drop-shadow(0px 1px 2px rgba(0, 0, 0, 0.3));\n",
              "      fill: #FFFFFF;\n",
              "    }\n",
              "  </style>\n",
              "\n",
              "      <script>\n",
              "        const buttonEl =\n",
              "          document.querySelector('#df-bb8de8c8-7876-4ee6-ba0b-5d418f12d924 button.colab-df-convert');\n",
              "        buttonEl.style.display =\n",
              "          google.colab.kernel.accessAllowed ? 'block' : 'none';\n",
              "\n",
              "        async function convertToInteractive(key) {\n",
              "          const element = document.querySelector('#df-bb8de8c8-7876-4ee6-ba0b-5d418f12d924');\n",
              "          const dataTable =\n",
              "            await google.colab.kernel.invokeFunction('convertToInteractive',\n",
              "                                                     [key], {});\n",
              "          if (!dataTable) return;\n",
              "\n",
              "          const docLinkHtml = 'Like what you see? Visit the ' +\n",
              "            '<a target=\"_blank\" href=https://colab.research.google.com/notebooks/data_table.ipynb>data table notebook</a>'\n",
              "            + ' to learn more about interactive tables.';\n",
              "          element.innerHTML = '';\n",
              "          dataTable['output_type'] = 'display_data';\n",
              "          await google.colab.output.renderOutput(dataTable, element);\n",
              "          const docLink = document.createElement('div');\n",
              "          docLink.innerHTML = docLinkHtml;\n",
              "          element.appendChild(docLink);\n",
              "        }\n",
              "      </script>\n",
              "    </div>\n",
              "  </div>\n",
              "  "
            ]
          },
          "metadata": {},
          "execution_count": 32
        }
      ]
    },
    {
      "cell_type": "code",
      "source": [
        "col_with_all_zeros=[]\n",
        "for col in df.describe().columns:\n",
        "  if df[col].quantile(0.5)==0 and df[col].quantile(0.75)==0 and df[col].max()==0 :\n",
        "    col_with_all_zeros.append(col)\n"
      ],
      "metadata": {
        "id": "1qJMQE9Zw-Ln"
      },
      "execution_count": 34,
      "outputs": []
    },
    {
      "cell_type": "code",
      "source": [
        "col_with_all_zeros"
      ],
      "metadata": {
        "colab": {
          "base_uri": "https://localhost:8080/"
        },
        "id": "bcr0iSa_xk0m",
        "outputId": "0febebc2-ceb6-4ad9-d33e-348daa70435b"
      },
      "execution_count": 35,
      "outputs": [
        {
          "output_type": "execute_result",
          "data": {
            "text/plain": [
              "['Default : Access all system downloads (S)',\n",
              " 'Default : Modify Google service configuration (S)',\n",
              " 'Default : access to passwords for Google accounts (S)',\n",
              " 'Default : act as an account authenticator (S)',\n",
              " 'Default : coarse (network-based) location (S)',\n",
              " 'Default : discover known accounts (S)',\n",
              " 'Default : full Internet access (S)',\n",
              " 'Default : mock location sources for testing (S)',\n",
              " 'Default : modify/delete USB storage contents modify/delete SD card contents (S)',\n",
              " 'Default : permanently disable device (S)',\n",
              " 'Default : read instant messages (S)',\n",
              " 'Default : reset system to factory defaults (S)',\n",
              " 'Default : run in factory test mode (S)',\n",
              " 'Default : set wallpaper size hints (S)',\n",
              " 'Default : start IM service (S)',\n",
              " 'Default : write contact data (S)',\n",
              " 'Default : write instant messages (S)',\n",
              " 'Network communication : download files without notification (S)',\n",
              " 'System tools : change background data usage setting (S)',\n",
              " 'Your accounts : Blogger (D)',\n",
              " 'Your messages : read Gmail attachment previews (D)',\n",
              " 'Your messages : write instant messages (D)']"
            ]
          },
          "metadata": {},
          "execution_count": 35
        }
      ]
    },
    {
      "cell_type": "code",
      "source": [
        "len(col_with_all_zeros)"
      ],
      "metadata": {
        "colab": {
          "base_uri": "https://localhost:8080/"
        },
        "id": "MH3A2C3tywbE",
        "outputId": "8256585e-f93e-4502-e3fe-7ce6bf7823f7"
      },
      "execution_count": 36,
      "outputs": [
        {
          "output_type": "execute_result",
          "data": {
            "text/plain": [
              "22"
            ]
          },
          "metadata": {},
          "execution_count": 36
        }
      ]
    },
    {
      "cell_type": "markdown",
      "source": [
        "From the above we can conclude that there are 22 columns with almost with zeros, which brings no value to the prediction. Let's drop that columns from the dataset."
      ],
      "metadata": {
        "id": "y5z0__Z-y0WX"
      }
    },
    {
      "cell_type": "code",
      "source": [
        "for col in col_with_all_zeros:\n",
        "  df.drop(col,inplace=True,axis=1)"
      ],
      "metadata": {
        "id": "g3sGBAmnyy1m"
      },
      "execution_count": 37,
      "outputs": []
    },
    {
      "cell_type": "code",
      "source": [
        "df.shape"
      ],
      "metadata": {
        "colab": {
          "base_uri": "https://localhost:8080/"
        },
        "id": "Ph3l0lXp1tNv",
        "outputId": "06950d2c-bc35-464f-faea-dfe71865b726"
      },
      "execution_count": 38,
      "outputs": [
        {
          "output_type": "execute_result",
          "data": {
            "text/plain": [
              "(26586, 162)"
            ]
          },
          "metadata": {},
          "execution_count": 38
        }
      ]
    },
    {
      "cell_type": "code",
      "source": [
        "cat_feature_col = [col for col in df.columns if df[col].dtype == 'object']"
      ],
      "metadata": {
        "id": "6YfJVEfH1vNM"
      },
      "execution_count": 49,
      "outputs": []
    },
    {
      "cell_type": "code",
      "source": [
        "for col in cat_feature_col:\n",
        "  print(col, '- ',df[col].nunique());"
      ],
      "metadata": {
        "colab": {
          "base_uri": "https://localhost:8080/"
        },
        "id": "qwxuah4W2CHy",
        "outputId": "da62735a-4039-4fbb-eb9f-da2ae38b1845"
      },
      "execution_count": 55,
      "outputs": [
        {
          "output_type": "stream",
          "name": "stdout",
          "text": [
            "App -  22176\n",
            "Package -  22815\n",
            "Category -  30\n",
            "Description -  22997\n",
            "Related apps -  23864\n"
          ]
        }
      ]
    },
    {
      "cell_type": "markdown",
      "source": [
        "From the above we can see that only the Catogory featute has less unique values i.e 30 compared to the other categorical features. Lets explore the Category column in breif."
      ],
      "metadata": {
        "id": "HckOcBV05ItR"
      }
    },
    {
      "cell_type": "markdown",
      "source": [
        "**UNIVARIATE AND MULTIVARIATE ANALYSIS**"
      ],
      "metadata": {
        "id": "2KBIwED--M-_"
      }
    },
    {
      "cell_type": "code",
      "source": [
        "from numpy.lib.function_base import rot90\n",
        "plt.figure(figsize=(12,5),dpi=200)\n",
        "sns.countplot(df['Category'])\n",
        "plt.xlabel(\"App Categroy\")\n",
        "plt.ylabel(\"Number of Apps\")\n",
        "plt.xticks(rotation=90)\n",
        "plt.show();"
      ],
      "metadata": {
        "colab": {
          "base_uri": "https://localhost:8080/",
          "height": 775
        },
        "id": "k7HPD0X24IK7",
        "outputId": "395e08f4-b008-4a5e-c2d4-6343211247ea"
      },
      "execution_count": 62,
      "outputs": [
        {
          "output_type": "stream",
          "name": "stderr",
          "text": [
            "/usr/local/lib/python3.7/dist-packages/seaborn/_decorators.py:43: FutureWarning: Pass the following variable as a keyword arg: x. From version 0.12, the only valid positional argument will be `data`, and passing other arguments without an explicit keyword will result in an error or misinterpretation.\n",
            "  FutureWarning\n"
          ]
        },
        {
          "output_type": "display_data",
          "data": {
            "text/plain": [
              "<Figure size 2400x1000 with 1 Axes>"
            ],
            "image/png": "[encoded data removed]"
          },
          "metadata": {
            "needs_background": "light"
          }
        }
      ]
    },
    {
      "cell_type": "markdown",
      "source": [
        "From the above plot we can say that, Entertainment related apps are the most preferred one compared to the other types of apps, followed by Travel related apps.\n",
        "The least downloaded of installed app among the 30 other categorical apps is Weather app."
      ],
      "metadata": {
        "id": "w5K90k8m4lYK"
      }
    },
    {
      "cell_type": "markdown",
      "source": [
        "Lets's explore target variable"
      ],
      "metadata": {
        "id": "ZDimpXqb-Sfa"
      }
    },
    {
      "cell_type": "code",
      "source": [
        "df['Class'].value_counts()"
      ],
      "metadata": {
        "colab": {
          "base_uri": "https://localhost:8080/"
        },
        "id": "QwIbfJiXEXfh",
        "outputId": "71a3a26f-b483-41b2-d3a9-884235eb855b"
      },
      "execution_count": 67,
      "outputs": [
        {
          "output_type": "execute_result",
          "data": {
            "text/plain": [
              "1    17592\n",
              "0     8994\n",
              "Name: Class, dtype: int64"
            ]
          },
          "metadata": {},
          "execution_count": 67
        }
      ]
    },
    {
      "cell_type": "markdown",
      "source": [
        "Let's find the percentage of BENIGN and MALWARE using pie plot"
      ],
      "metadata": {
        "id": "OkGNiI1FBA-v"
      }
    },
    {
      "cell_type": "code",
      "source": [
        "plt.figure(figsize=(7,4),dpi=200)\n",
        "plt.pie(df['Class'].value_counts(),labels=['GENUINE','MALWARE'],shadow=True,autopct='%1.1f%%')\n",
        "plt.show();"
      ],
      "metadata": {
        "colab": {
          "base_uri": "https://localhost:8080/",
          "height": 661
        },
        "id": "hhsW34Vr-gxc",
        "outputId": "d87c1568-90b0-4bef-d27c-0bc0a83b9de9"
      },
      "execution_count": 93,
      "outputs": [
        {
          "output_type": "display_data",
          "data": {
            "text/plain": [
              "<Figure size 1400x800 with 1 Axes>"
            ],
            "image/png": "[encoded data removed]"
          },
          "metadata": {}
        }
      ]
    },
    {
      "cell_type": "markdown",
      "source": [
        "1) From the above plot we can see that Target variable is not Uniformly distributed.\n",
        "\n",
        "2) About 40% of the apps are Malware."
      ],
      "metadata": {
        "id": "64bvdMYEBbkV"
      }
    },
    {
      "cell_type": "code",
      "source": [
        "rating = df.groupby('Category')[['Rating']].mean()\n",
        "\n",
        "rating.sort_values(by='Rating', ascending=False,inplace=True)\n",
        "rating.reset_index(inplace=True)"
      ],
      "metadata": {
        "id": "0Eq-jjnFJ_QD"
      },
      "execution_count": 100,
      "outputs": []
    },
    {
      "cell_type": "code",
      "source": [
        "rating"
      ],
      "metadata": {
        "colab": {
          "base_uri": "https://localhost:8080/",
          "height": 990
        },
        "id": "TuJdhlhVPXHz",
        "outputId": "26f01a67-7951-41b1-aeac-dec05ee3f480"
      },
      "execution_count": 102,
      "outputs": [
        {
          "output_type": "execute_result",
          "data": {
            "text/plain": [
              "             Category    Rating\n",
              "0             Weather  3.966000\n",
              "1        Productivity  3.955724\n",
              "2             Finance  3.934010\n",
              "3       Communication  3.894726\n",
              "4               Tools  3.835816\n",
              "5      Cards & Casino  3.797516\n",
              "6              Racing  3.783200\n",
              "7    News & Magazines  3.751807\n",
              "8     Arcade & Action  3.749235\n",
              "9        Sports Games  3.740550\n",
              "10     Brain & Puzzle  3.738982\n",
              "11     Transportation  3.735264\n",
              "12      Media & Video  3.675664\n",
              "13          Education  3.662193\n",
              "14             Social  3.650872\n",
              "15             Casual  3.645322\n",
              "16             Comics  3.636607\n",
              "17   Libraries & Demo  3.599091\n",
              "18   Health & Fitness  3.592000\n",
              "19      Music & Audio  3.571903\n",
              "20     Travel & Local  3.543188\n",
              "21           Shopping  3.540361\n",
              "22        Photography  3.483206\n",
              "23             Sports  3.471701\n",
              "24    Personalization  3.448784\n",
              "25           Business  3.439731\n",
              "26          Lifestyle  3.333359\n",
              "27      Entertainment  3.228600\n",
              "28  Books & Reference  3.069067\n",
              "29            Medical  2.043952"
            ],
            "text/html": [
              "\n",
              "  <div id=\"df-36b4bf88-23f9-4a34-a0d4-64d12e614b90\">\n",
              "    <div class=\"colab-df-container\">\n",
              "      <div>\n",
              "<style scoped>\n",
              "    .dataframe tbody tr th:only-of-type {\n",
              "        vertical-align: middle;\n",
              "    }\n",
              "\n",
              "    .dataframe tbody tr th {\n",
              "        vertical-align: top;\n",
              "    }\n",
              "\n",
              "    .dataframe thead th {\n",
              "        text-align: right;\n",
              "    }\n",
              "</style>\n",
              "<table border=\"1\" class=\"dataframe\">\n",
              "  <thead>\n",
              "    <tr style=\"text-align: right;\">\n",
              "      <th></th>\n",
              "      <th>Category</th>\n",
              "      <th>Rating</th>\n",
              "    </tr>\n",
              "  </thead>\n",
              "  <tbody>\n",
              "    <tr>\n",
              "      <th>0</th>\n",
              "      <td>Weather</td>\n",
              "      <td>3.966000</td>\n",
              "    </tr>\n",
              "    <tr>\n",
              "      <th>1</th>\n",
              "      <td>Productivity</td>\n",
              "      <td>3.955724</td>\n",
              "    </tr>\n",
              "    <tr>\n",
              "      <th>2</th>\n",
              "      <td>Finance</td>\n",
              "      <td>3.934010</td>\n",
              "    </tr>\n",
              "    <tr>\n",
              "      <th>3</th>\n",
              "      <td>Communication</td>\n",
              "      <td>3.894726</td>\n",
              "    </tr>\n",
              "    <tr>\n",
              "      <th>4</th>\n",
              "      <td>Tools</td>\n",
              "      <td>3.835816</td>\n",
              "    </tr>\n",
              "    <tr>\n",
              "      <th>5</th>\n",
              "      <td>Cards &amp; Casino</td>\n",
              "      <td>3.797516</td>\n",
              "    </tr>\n",
              "    <tr>\n",
              "      <th>6</th>\n",
              "      <td>Racing</td>\n",
              "      <td>3.783200</td>\n",
              "    </tr>\n",
              "    <tr>\n",
              "      <th>7</th>\n",
              "      <td>News &amp; Magazines</td>\n",
              "      <td>3.751807</td>\n",
              "    </tr>\n",
              "    <tr>\n",
              "      <th>8</th>\n",
              "      <td>Arcade &amp; Action</td>\n",
              "      <td>3.749235</td>\n",
              "    </tr>\n",
              "    <tr>\n",
              "      <th>9</th>\n",
              "      <td>Sports Games</td>\n",
              "      <td>3.740550</td>\n",
              "    </tr>\n",
              "    <tr>\n",
              "      <th>10</th>\n",
              "      <td>Brain &amp; Puzzle</td>\n",
              "      <td>3.738982</td>\n",
              "    </tr>\n",
              "    <tr>\n",
              "      <th>11</th>\n",
              "      <td>Transportation</td>\n",
              "      <td>3.735264</td>\n",
              "    </tr>\n",
              "    <tr>\n",
              "      <th>12</th>\n",
              "      <td>Media &amp; Video</td>\n",
              "      <td>3.675664</td>\n",
              "    </tr>\n",
              "    <tr>\n",
              "      <th>13</th>\n",
              "      <td>Education</td>\n",
              "      <td>3.662193</td>\n",
              "    </tr>\n",
              "    <tr>\n",
              "      <th>14</th>\n",
              "      <td>Social</td>\n",
              "      <td>3.650872</td>\n",
              "    </tr>\n",
              "    <tr>\n",
              "      <th>15</th>\n",
              "      <td>Casual</td>\n",
              "      <td>3.645322</td>\n",
              "    </tr>\n",
              "    <tr>\n",
              "      <th>16</th>\n",
              "      <td>Comics</td>\n",
              "      <td>3.636607</td>\n",
              "    </tr>\n",
              "    <tr>\n",
              "      <th>17</th>\n",
              "      <td>Libraries &amp; Demo</td>\n",
              "      <td>3.599091</td>\n",
              "    </tr>\n",
              "    <tr>\n",
              "      <th>18</th>\n",
              "      <td>Health &amp; Fitness</td>\n",
              "      <td>3.592000</td>\n",
              "    </tr>\n",
              "    <tr>\n",
              "      <th>19</th>\n",
              "      <td>Music &amp; Audio</td>\n",
              "      <td>3.571903</td>\n",
              "    </tr>\n",
              "    <tr>\n",
              "      <th>20</th>\n",
              "      <td>Travel &amp; Local</td>\n",
              "      <td>3.543188</td>\n",
              "    </tr>\n",
              "    <tr>\n",
              "      <th>21</th>\n",
              "      <td>Shopping</td>\n",
              "      <td>3.540361</td>\n",
              "    </tr>\n",
              "    <tr>\n",
              "      <th>22</th>\n",
              "      <td>Photography</td>\n",
              "      <td>3.483206</td>\n",
              "    </tr>\n",
              "    <tr>\n",
              "      <th>23</th>\n",
              "      <td>Sports</td>\n",
              "      <td>3.471701</td>\n",
              "    </tr>\n",
              "    <tr>\n",
              "      <th>24</th>\n",
              "      <td>Personalization</td>\n",
              "      <td>3.448784</td>\n",
              "    </tr>\n",
              "    <tr>\n",
              "      <th>25</th>\n",
              "      <td>Business</td>\n",
              "      <td>3.439731</td>\n",
              "    </tr>\n",
              "    <tr>\n",
              "      <th>26</th>\n",
              "      <td>Lifestyle</td>\n",
              "      <td>3.333359</td>\n",
              "    </tr>\n",
              "    <tr>\n",
              "      <th>27</th>\n",
              "      <td>Entertainment</td>\n",
              "      <td>3.228600</td>\n",
              "    </tr>\n",
              "    <tr>\n",
              "      <th>28</th>\n",
              "      <td>Books &amp; Reference</td>\n",
              "      <td>3.069067</td>\n",
              "    </tr>\n",
              "    <tr>\n",
              "      <th>29</th>\n",
              "      <td>Medical</td>\n",
              "      <td>2.043952</td>\n",
              "    </tr>\n",
              "  </tbody>\n",
              "</table>\n",
              "</div>\n",
              "      <button class=\"colab-df-convert\" onclick=\"convertToInteractive('df-36b4bf88-23f9-4a34-a0d4-64d12e614b90')\"\n",
              "              title=\"Convert this dataframe to an interactive table.\"\n",
              "              style=\"display:none;\">\n",
              "        \n",
              "  <svg xmlns=\"http://www.w3.org/2000/svg\" height=\"24px\"viewBox=\"0 0 24 24\"\n",
              "       width=\"24px\">\n",
              "    <path d=\"M0 0h24v24H0V0z\" fill=\"none\"/>\n",
              "    <path d=\"M18.56 5.44l.94 2.06.94-2.06 2.06-.94-2.06-.94-.94-2.06-.94 2.06-2.06.94zm-11 1L8.5 8.5l.94-2.06 2.06-.94-2.06-.94L8.5 2.5l-.94 2.06-2.06.94zm10 10l.94 2.06.94-2.06 2.06-.94-2.06-.94-.94-2.06-.94 2.06-2.06.94z\"/><path d=\"M17.41 7.96l-1.37-1.37c-.4-.4-.92-.59-1.43-.59-.52 0-1.04.2-1.43.59L10.3 9.45l-7.72 7.72c-.78.78-.78 2.05 0 2.83L4 21.41c.39.39.9.59 1.41.59.51 0 1.02-.2 1.41-.59l7.78-7.78 2.81-2.81c.8-.78.8-2.07 0-2.86zM5.41 20L4 18.59l7.72-7.72 1.47 1.35L5.41 20z\"/>\n",
              "  </svg>\n",
              "      </button>\n",
              "      \n",
              "  <style>\n",
              "    .colab-df-container {\n",
              "      display:flex;\n",
              "      flex-wrap:wrap;\n",
              "      gap: 12px;\n",
              "    }\n",
              "\n",
              "    .colab-df-convert {\n",
              "      background-color: #E8F0FE;\n",
              "      border: none;\n",
              "      border-radius: 50%;\n",
              "      cursor: pointer;\n",
              "      display: none;\n",
              "      fill: #1967D2;\n",
              "      height: 32px;\n",
              "      padding: 0 0 0 0;\n",
              "      width: 32px;\n",
              "    }\n",
              "\n",
              "    .colab-df-convert:hover {\n",
              "      background-color: #E2EBFA;\n",
              "      box-shadow: 0px 1px 2px rgba(60, 64, 67, 0.3), 0px 1px 3px 1px rgba(60, 64, 67, 0.15);\n",
              "      fill: #174EA6;\n",
              "    }\n",
              "\n",
              "    [theme=dark] .colab-df-convert {\n",
              "      background-color: #3B4455;\n",
              "      fill: #D2E3FC;\n",
              "    }\n",
              "\n",
              "    [theme=dark] .colab-df-convert:hover {\n",
              "      background-color: #434B5C;\n",
              "      box-shadow: 0px 1px 3px 1px rgba(0, 0, 0, 0.15);\n",
              "      filter: drop-shadow(0px 1px 2px rgba(0, 0, 0, 0.3));\n",
              "      fill: #FFFFFF;\n",
              "    }\n",
              "  </style>\n",
              "\n",
              "      <script>\n",
              "        const buttonEl =\n",
              "          document.querySelector('#df-36b4bf88-23f9-4a34-a0d4-64d12e614b90 button.colab-df-convert');\n",
              "        buttonEl.style.display =\n",
              "          google.colab.kernel.accessAllowed ? 'block' : 'none';\n",
              "\n",
              "        async function convertToInteractive(key) {\n",
              "          const element = document.querySelector('#df-36b4bf88-23f9-4a34-a0d4-64d12e614b90');\n",
              "          const dataTable =\n",
              "            await google.colab.kernel.invokeFunction('convertToInteractive',\n",
              "                                                     [key], {});\n",
              "          if (!dataTable) return;\n",
              "\n",
              "          const docLinkHtml = 'Like what you see? Visit the ' +\n",
              "            '<a target=\"_blank\" href=https://colab.research.google.com/notebooks/data_table.ipynb>data table notebook</a>'\n",
              "            + ' to learn more about interactive tables.';\n",
              "          element.innerHTML = '';\n",
              "          dataTable['output_type'] = 'display_data';\n",
              "          await google.colab.output.renderOutput(dataTable, element);\n",
              "          const docLink = document.createElement('div');\n",
              "          docLink.innerHTML = docLinkHtml;\n",
              "          element.appendChild(docLink);\n",
              "        }\n",
              "      </script>\n",
              "    </div>\n",
              "  </div>\n",
              "  "
            ]
          },
          "metadata": {},
          "execution_count": 102
        }
      ]
    },
    {
      "cell_type": "code",
      "source": [
        "plt.figure(figsize=(3,4),dpi=200)\n",
        "x=df['Rating']\n",
        "y=df['Category']\n",
        "sns.barplot(rating.Rating,rating.Category)\n",
        "plt.xlabel('Rating')\n",
        "plt.ylabel('App Category')\n",
        "plt.yticks(fontsize=5)\n",
        "plt.show()\n"
      ],
      "metadata": {
        "colab": {
          "base_uri": "https://localhost:8080/",
          "height": 802
        },
        "id": "TS1MlCxAFjdM",
        "outputId": "7fb94670-2826-4c9c-f483-ee91bd662fed"
      },
      "execution_count": 122,
      "outputs": [
        {
          "output_type": "stream",
          "name": "stderr",
          "text": [
            "/usr/local/lib/python3.7/dist-packages/seaborn/_decorators.py:43: FutureWarning: Pass the following variables as keyword args: x, y. From version 0.12, the only valid positional argument will be `data`, and passing other arguments without an explicit keyword will result in an error or misinterpretation.\n",
            "  FutureWarning\n"
          ]
        },
        {
          "output_type": "display_data",
          "data": {
            "text/plain": [
              "<Figure size 600x800 with 1 Axes>"
            ],
            "image/png": "[encoded data removed]"
          },
          "metadata": {
            "needs_background": "light"
          }
        }
      ]
    },
    {
      "cell_type": "markdown",
      "source": [
        "1) From the above we can say that, even though weather is the least downloaded but it is  the most rated app.\n",
        "\n",
        "2) Followed by Productivity and the least followed app is Mediacal related app.\n",
        "\n",
        "3) The most downloaded app Entertainment is almost the least rated one which is the 3rd from the bottom.1"
      ],
      "metadata": {
        "id": "jNfMz6AmTkAH"
      }
    },
    {
      "cell_type": "code",
      "source": [
        ""
      ],
      "metadata": {
        "id": "H3HgukB6HFTv"
      },
      "execution_count": null,
      "outputs": []
    }
  ]
}